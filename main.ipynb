{
 "cells": [
  {
   "cell_type": "markdown",
   "id": "34cea729-0063-4e2b-b618-549ea57bb090",
   "metadata": {
    "tags": []
   },
   "source": [
    "# Code"
   ]
  },
  {
   "cell_type": "code",
   "execution_count": 20,
   "id": "f9c09b10-9109-41a0-8572-b5c678dab2ca",
   "metadata": {
    "tags": []
   },
   "outputs": [],
   "source": [
    "import json\n",
    "import jsonlines\n",
    "import os\n",
    "import matplotlib.pyplot as plt\n",
    "import numpy as np\n",
    "import random\n",
    "from pprint import pprint\n",
    "from tqdm import tqdm"
   ]
  },
  {
   "cell_type": "code",
   "execution_count": null,
   "id": "f5dbada9-2dd9-45db-8d0a-11d7e9e31bc8",
   "metadata": {
    "tags": []
   },
   "outputs": [],
   "source": [
    "def load_dir(dataset: list, path: str, label: bool, sort=True):\n",
    "    dataset.sort(key=lambda e: e[\"id\"])\n",
    "    if dataset:\n",
    "        index = dataset[-1][\"id\"]+1\n",
    "    else:\n",
    "        index = 0\n",
    "    fnames = [(path+\"/Red/\"+i[:2]+\"_Red.txt\", path+\"/Green/\"+i[:2]+\"_Green.txt\",path+\"/Blue/\"+i[:2]+\"_Blue.txt\") for i in [i for i in os.walk(path)][1][2]]\n",
    "    for fname in fnames:\n",
    "        person = {\"id\": index}\n",
    "        person[\"label\"] = label\n",
    "        with open(fname[0],\"r\") as rfile, open(fname[1],\"r\") as gfile, open(fname[2],\"r\") as bfile:\n",
    "            person[\"r\"] = [float(i) for i in rfile.readlines()[1:]]\n",
    "            person[\"g\"] = [float(i) for i in gfile.readlines()[1:]]\n",
    "            person[\"b\"] = [float(i) for i in bfile.readlines()[1:]]\n",
    "        \n",
    "        if sort:\n",
    "            person[\"r\"].sort()\n",
    "            person[\"g\"].sort()            \n",
    "            person[\"b\"].sort()\n",
    "        \n",
    "        index+=1\n",
    "        dataset.append(person)\n",
    "        \n",
    "def load_dataset(dataset: list, path: str, pathpos: str, pathneg: str, sort=True):\n",
    "    load_dir(dataset, path+\"/\"+pathpos, True, sort=sort)\n",
    "    load_dir(dataset, path+\"/\"+pathneg, False, sort=sort)    \n",
    "        \n",
    "        \n",
    "# def get_filter(dataset: list, filter: str):\n",
    "#     if filter!=\"r\" and filter!=\"g\" and filter!=\"b\":\n",
    "#         raise ValueError('Wrong filter: must be \"r\", \"g\", \"b\"')\n",
    "#     new_dataset = []\n",
    "#     for person in dataset:\n",
    "#         new_dataset.append({\"id\": person[\"id\"], \"label\": person[\"label\"], \"data\": person[filter]})\n",
    "    \n",
    "#     return new_dataset\n",
    "\n",
    "def show_plot_by_filter(dataset: list, filter: str):\n",
    "    plt.clf()\n",
    "    if filter!=\"r\" and filter!=\"g\" and filter!=\"b\":\n",
    "        raise ValueError('Wrong filter: must be \"r\", \"g\", \"b\"')\n",
    "    for i in np.arange(0,len(dataset), 1):\n",
    "        color=\"green\"\n",
    "        if dataset[i][\"label\"]:\n",
    "            color=\"red\"\n",
    "        for j in dataset[i][filter]:\n",
    "            plt.plot(i,j, \"o\", markersize=0.5, color=color)\n",
    "    plt.show()\n",
    "\n",
    "    \n",
    "def binarize_person(person: dict, precision=1e-6, up=1.8, down=0.2, radius=0, flatten=True):\n",
    "    person_data = np.zeros((3, int((up-down)//precision)+1), np.float32)\n",
    "    \n",
    "    dots  = (\n",
    "        ((np.array(person[\"r\"]).clip(down, up)-down)//precision).astype(np.uint32),\n",
    "        ((np.array(person[\"g\"]).clip(down, up)-down)//precision).astype(np.uint32),\n",
    "        ((np.array(person[\"b\"]).clip(down, up)-down)//precision).astype(np.uint32))\n",
    "    \n",
    "    for color_index in range(3):\n",
    "        for dot in dots[color_index]:\n",
    "            person_data[color_index][max(0, dot-radius) : min(dot+radius+1, person_data.shape[1])].fill(1)\n",
    "    \n",
    "    if flatten:\n",
    "        return {\"id\": person[\"id\"], \"label\": person[\"label\"], \"data\": person_data.flatten()}\n",
    "    else:\n",
    "        return {\"id\": person[\"id\"], \"label\": person[\"label\"], \"data\": person_data}\n",
    "\n",
    "def show_plot_avg_by_filter(dataset: list, filter: str):\n",
    "    plt.clf()\n",
    "    if filter!=\"r\" and filter!=\"g\" and filter!=\"b\":\n",
    "        raise ValueError('Wrong filter: must be \"r\", \"g\", \"b\"')\n",
    "    for person in dataset:\n",
    "        \n",
    "        if person[\"label\"]:\n",
    "            color=\"red\"\n",
    "            x = 0\n",
    "        else:\n",
    "            color=\"green\"\n",
    "            x = 1\n",
    "             \n",
    "        for y in person[filter]:\n",
    "            plt.plot(x,y, \"o\", markersize=0.5, color=color)\n",
    "    plt.show()\n",
    "    \n"
   ]
  },
  {
   "cell_type": "markdown",
   "id": "a73cd4cb-09c3-4b6d-a074-5077980474d5",
   "metadata": {
    "tags": []
   },
   "source": [
    "# Loading dataset"
   ]
  },
  {
   "cell_type": "code",
   "execution_count": 3,
   "id": "df932bb0-c26e-45df-8610-5ec75b4ffa77",
   "metadata": {
    "tags": []
   },
   "outputs": [],
   "source": [
    "dataset = []\n",
    "load_dataset(dataset, \"data_orig/Data\", \"BC\", \"Control\")"
   ]
  },
  {
   "cell_type": "markdown",
   "id": "ec699830-3604-4b0b-9d24-0c694a0b211c",
   "metadata": {
    "tags": []
   },
   "source": [
    "# Visulaisation of cells fractal dimensions for each person (97)"
   ]
  },
  {
   "cell_type": "markdown",
   "id": "e7091da8-ab42-4c50-afb9-ea1af81bafbb",
   "metadata": {
    "tags": []
   },
   "source": [
    "## Red filter"
   ]
  },
  {
   "cell_type": "code",
   "execution_count": 4,
   "id": "054a01f7-48f6-4b44-81ea-02e35da6056d",
   "metadata": {
    "tags": []
   },
   "outputs": [
    {
     "data": {
      "image/png": "[encoded data removed]",
      "text/plain": [
       "<Figure size 640x480 with 1 Axes>"
      ]
     },
     "metadata": {},
     "output_type": "display_data"
    }
   ],
   "source": [
    "show_plot_by_filter(dataset, \"r\")"
   ]
  },
  {
   "cell_type": "markdown",
   "id": "4d871d73-6edd-46fd-8373-5c8e706e9fd8",
   "metadata": {
    "tags": []
   },
   "source": [
    "## Green"
   ]
  },
  {
   "cell_type": "code",
   "execution_count": 165,
   "id": "5715d424-e003-4f5e-97dc-920d19bbfdd4",
   "metadata": {
    "tags": []
   },
   "outputs": [
    {
     "data": {
      "image/png": "[encoded data removed]",
      "text/plain": [
       "<Figure size 640x480 with 1 Axes>"
      ]
     },
     "metadata": {},
     "output_type": "display_data"
    }
   ],
   "source": [
    "show_plot_by_filter(dataset, \"g\")"
   ]
  },
  {
   "cell_type": "markdown",
   "id": "bb5f9a62-b58f-435b-a99d-e3157aa6f361",
   "metadata": {},
   "source": [
    "## Blue"
   ]
  },
  {
   "cell_type": "code",
   "execution_count": null,
   "id": "12fb7452-c2f7-4ce2-aaed-568a9fa1dd6f",
   "metadata": {
    "tags": []
   },
   "outputs": [],
   "source": [
    "show_plot_by_filter(dataset, \"b\")"
   ]
  },
  {
   "cell_type": "markdown",
   "id": "6685702c-ae03-49b2-a4c9-4e4c0041916e",
   "metadata": {
    "tags": []
   },
   "source": [
    "# Combined cancer-pos and -neg dots"
   ]
  },
  {
   "cell_type": "markdown",
   "id": "92ea5e2e-5b1c-4767-9a65-4da370012778",
   "metadata": {
    "tags": []
   },
   "source": [
    "## Red:"
   ]
  },
  {
   "cell_type": "code",
   "execution_count": null,
   "id": "d61f7145-4a7e-491a-a2b0-02d6ddb4cd7b",
   "metadata": {
    "tags": []
   },
   "outputs": [],
   "source": [
    "show_plot_avg_by_filter(dataset, \"r\")"
   ]
  },
  {
   "cell_type": "markdown",
   "id": "567911fd-e4d4-4f57-8ec2-d441ade2b624",
   "metadata": {},
   "source": [
    "## Green:"
   ]
  },
  {
   "cell_type": "code",
   "execution_count": null,
   "id": "35ae59ce-06ab-4663-a2ea-94d853e52c9e",
   "metadata": {
    "tags": []
   },
   "outputs": [],
   "source": [
    "show_plot_avg_by_filter(dataset, \"g\")"
   ]
  },
  {
   "cell_type": "markdown",
   "id": "0a41c114-7a78-4f38-9cbc-d55758f38620",
   "metadata": {},
   "source": [
    "## Blue:"
   ]
  },
  {
   "cell_type": "code",
   "execution_count": null,
   "id": "acc5d09e-5cbf-4e02-b08c-5c39a8de9832",
   "metadata": {
    "tags": []
   },
   "outputs": [],
   "source": [
    "show_plot_avg_by_filter(dataset, \"b\")"
   ]
  },
  {
   "cell_type": "markdown",
   "id": "b45450fe-bda8-4b42-9335-a392457788f8",
   "metadata": {
    "tags": []
   },
   "source": [
    "# Generation of binarized dataset"
   ]
  },
  {
   "cell_type": "code",
   "execution_count": 163,
   "id": "b05f0c31-acd3-46ca-8e6f-d1570ddcdbfc",
   "metadata": {},
   "outputs": [],
   "source": [
    "dataset_bin = [binarize_person(p, precision=1e-3, radius=1) for p in dataset]"
   ]
  },
  {
   "cell_type": "code",
   "execution_count": 125,
   "id": "2501b24e-5d25-4840-a226-da7163874023",
   "metadata": {},
   "outputs": [
    {
     "data": {
      "text/plain": [
       "{'id': 0,\n",
       " 'label': True,\n",
       " 'data': array([0., 0., 0., ..., 0., 0., 0.], dtype=float32)}"
      ]
     },
     "execution_count": 125,
     "metadata": {},
     "output_type": "execute_result"
    }
   ],
   "source": [
    "(dataset_bin[0])"
   ]
  },
  {
   "cell_type": "markdown",
   "id": "4b692445-35dc-49f8-a12b-f6ffb9a58077",
   "metadata": {
    "tags": []
   },
   "source": [
    "# One-leave-out validation for 97 classes (Hopfield)"
   ]
  },
  {
   "cell_type": "code",
   "execution_count": 7,
   "id": "63955ef1-bc31-4598-9cdf-aabac391abd2",
   "metadata": {},
   "outputs": [],
   "source": [
    "import sys\n",
    "sys.path.append(\"c:/users/user/Desktop/hopfield-izhikevich/hopfield\")"
   ]
  },
  {
   "cell_type": "code",
   "execution_count": 126,
   "id": "18e72719-708a-4841-b569-ac486b87dac7",
   "metadata": {},
   "outputs": [],
   "source": [
    "from hopfield import Hopfield"
   ]
  },
  {
   "cell_type": "code",
   "execution_count": 166,
   "id": "1a4030a2-6893-46e5-98af-e8844a191fe6",
   "metadata": {},
   "outputs": [
    {
     "name": "stderr",
     "output_type": "stream",
     "text": [
      " 28%|██████████████████████▊                                                           | 27/97 [00:12<00:33,  2.11it/s]\n"
     ]
    },
    {
     "ename": "KeyboardInterrupt",
     "evalue": "",
     "output_type": "error",
     "traceback": [
      "\u001b[1;31m---------------------------------------------------------------------------\u001b[0m",
      "\u001b[1;31mKeyboardInterrupt\u001b[0m                         Traceback (most recent call last)",
      "Cell \u001b[1;32mIn[166], line 21\u001b[0m\n\u001b[0;32m     19\u001b[0m output[\u001b[38;5;124m\"\u001b[39m\u001b[38;5;124moutput\u001b[39m\u001b[38;5;124m\"\u001b[39m] \u001b[38;5;241m=\u001b[39m (output[\u001b[38;5;124m\"\u001b[39m\u001b[38;5;124moutput\u001b[39m\u001b[38;5;124m\"\u001b[39m] \u001b[38;5;241m+\u001b[39m \u001b[38;5;241m1\u001b[39m)\u001b[38;5;241m*\u001b[39m\u001b[38;5;241m2\u001b[39m\n\u001b[0;32m     20\u001b[0m \u001b[38;5;28;01mfor\u001b[39;00m j \u001b[38;5;129;01min\u001b[39;00m \u001b[38;5;28mrange\u001b[39m(\u001b[38;5;28mlen\u001b[39m(dataset_bin)\u001b[38;5;241m-\u001b[39m\u001b[38;5;241m1\u001b[39m):\n\u001b[1;32m---> 21\u001b[0m     \u001b[38;5;28;01mif\u001b[39;00m \u001b[43m(\u001b[49m\u001b[43mraw_data\u001b[49m\u001b[43m[\u001b[49m\u001b[43m_mask\u001b[49m\u001b[43m]\u001b[49m\u001b[43m[\u001b[49m\u001b[43mj\u001b[49m\u001b[43m]\u001b[49m\u001b[38;5;241;43m==\u001b[39;49m\u001b[43moutput\u001b[49m\u001b[43m[\u001b[49m\u001b[38;5;124;43m\"\u001b[39;49m\u001b[38;5;124;43moutput\u001b[39;49m\u001b[38;5;124;43m\"\u001b[39;49m\u001b[43m]\u001b[49m\u001b[43m)\u001b[49m\u001b[38;5;241;43m.\u001b[39;49m\u001b[43mall\u001b[49m\u001b[43m(\u001b[49m\u001b[43m)\u001b[49m:\n\u001b[0;32m     22\u001b[0m         \u001b[38;5;28;01mif\u001b[39;00m i\u001b[38;5;241m>\u001b[39mj:\n\u001b[0;32m     23\u001b[0m             \u001b[38;5;28;01mif\u001b[39;00m dataset_bin[i][\u001b[38;5;124m\"\u001b[39m\u001b[38;5;124mlabel\u001b[39m\u001b[38;5;124m\"\u001b[39m]\u001b[38;5;241m==\u001b[39mdataset_bin[j][\u001b[38;5;124m\"\u001b[39m\u001b[38;5;124mlabel\u001b[39m\u001b[38;5;124m\"\u001b[39m]:\n",
      "File \u001b[1;32m~\\AppData\\Local\\Programs\\Python\\Python310\\lib\\site-packages\\numpy\\core\\_methods.py:61\u001b[0m, in \u001b[0;36m_all\u001b[1;34m(a, axis, dtype, out, keepdims, where)\u001b[0m\n\u001b[0;32m     58\u001b[0m         \u001b[38;5;28;01mreturn\u001b[39;00m umr_any(a, axis, dtype, out, keepdims)\n\u001b[0;32m     59\u001b[0m     \u001b[38;5;28;01mreturn\u001b[39;00m umr_any(a, axis, dtype, out, keepdims, where\u001b[38;5;241m=\u001b[39mwhere)\n\u001b[1;32m---> 61\u001b[0m \u001b[38;5;28;01mdef\u001b[39;00m \u001b[38;5;21m_all\u001b[39m(a, axis\u001b[38;5;241m=\u001b[39m\u001b[38;5;28;01mNone\u001b[39;00m, dtype\u001b[38;5;241m=\u001b[39m\u001b[38;5;28;01mNone\u001b[39;00m, out\u001b[38;5;241m=\u001b[39m\u001b[38;5;28;01mNone\u001b[39;00m, keepdims\u001b[38;5;241m=\u001b[39m\u001b[38;5;28;01mFalse\u001b[39;00m, \u001b[38;5;241m*\u001b[39m, where\u001b[38;5;241m=\u001b[39m\u001b[38;5;28;01mTrue\u001b[39;00m):\n\u001b[0;32m     62\u001b[0m     \u001b[38;5;66;03m# Parsing keyword arguments is currently fairly slow, so avoid it for now\u001b[39;00m\n\u001b[0;32m     63\u001b[0m     \u001b[38;5;28;01mif\u001b[39;00m where \u001b[38;5;129;01mis\u001b[39;00m \u001b[38;5;28;01mTrue\u001b[39;00m:\n\u001b[0;32m     64\u001b[0m         \u001b[38;5;28;01mreturn\u001b[39;00m umr_all(a, axis, dtype, out, keepdims)\n",
      "\u001b[1;31mKeyboardInterrupt\u001b[0m: "
     ]
    }
   ],
   "source": [
    "q = 0\n",
    "pos = 0\n",
    "time = 5\n",
    "\n",
    "raw_data = np.array([i[\"data\"] for i in dataset_bin], dtype=np.float32)\n",
    "\n",
    "for i in tqdm(range(len(dataset_bin))):\n",
    "    _mask = np.ones(len(dataset_bin), dtype=bool)\n",
    "    _mask[i] = False\n",
    "\n",
    "    _X = dataset_bin[i][\"data\"]*2-1\n",
    "    _images = raw_data[_mask]*2-1\n",
    "    \n",
    "    model = Hopfield(q=q, np_type=np.float32)\n",
    "    model.train(images=_images)\n",
    "    # print(\"trained\")\n",
    "    output = model.run(X=_X, time=time)\n",
    "    \n",
    "    output[\"output\"] = (output[\"output\"] + 1)*2\n",
    "    for j in range(len(dataset_bin)-1):\n",
    "        if (raw_data[_mask][j]==output[\"output\"]).all():\n",
    "            if i>j:\n",
    "                if dataset_bin[i][\"label\"]==dataset_bin[j][\"label\"]:\n",
    "                    pos+=1\n",
    "                    break\n",
    "            elif dataset_bin[i][\"label\"]==dataset_bin[j+1][\"label\"]:\n",
    "                pos+=1\n",
    "                break\n",
    "            \n",
    "        \n",
    "print(pos)"
   ]
  },
  {
   "cell_type": "code",
   "execution_count": null,
   "id": "0538dd2e-1370-4028-a97a-a13f6717951d",
   "metadata": {
    "collapsed": true,
    "jupyter": {
     "outputs_hidden": true
    },
    "tags": []
   },
   "outputs": [
    {
     "data": {
      "text/plain": [
       "88.00052261352539"
      ]
     },
     "execution_count": 42,
     "metadata": {},
     "output_type": "execute_result"
    }
   ],
   "source": [
    "(raw_data.shape[1]*raw_data.shape[1])*raw_data.itemsize/1024/1024"
   ]
  },
  {
   "cell_type": "code",
   "execution_count": 162,
   "id": "7513daa9-86cd-42fa-9c8b-b0e009b0b501",
   "metadata": {
    "tags": []
   },
   "outputs": [
    {
     "data": {
      "text/plain": [
       "3938"
      ]
     },
     "execution_count": 162,
     "metadata": {},
     "output_type": "execute_result"
    }
   ],
   "source": [
    "i = random.randint(0,96)\n",
    "j = random.randint(0,96)\n",
    "sum(raw_data[i]==raw_data[j])"
   ]
  },
  {
   "cell_type": "code",
   "execution_count": 51,
   "id": "67161aac-4f03-4a7b-8965-86c1642e9d67",
   "metadata": {},
   "outputs": [],
   "source": [
    "binary_output = (np.array([i[\"output\"] for i in out], dtype=np.float32)+1)/2.0"
   ]
  },
  {
   "cell_type": "code",
   "execution_count": 53,
   "id": "47ec2bce-33ab-4a75-aa3e-ceefaaba2e5d",
   "metadata": {},
   "outputs": [
    {
     "data": {
      "text/plain": [
       "(97, 4803)"
      ]
     },
     "execution_count": 53,
     "metadata": {},
     "output_type": "execute_result"
    }
   ],
   "source": [
    "pos = 0\n",
    "for i in range(len(binary_output)):\n",
    "    flag=False\n",
    "    for j in range(len(dataset_bin)):\n",
    "        if (binary_output[i]==dataset_bin[j]).all():\n",
    "            if :\n",
    "                pos+=1\n",
    "            \n",
    "            \n",
    "            "
   ]
  },
  {
   "cell_type": "code",
   "execution_count": null,
   "id": "f0588ae2-178f-45ea-9acf-6658ffecfc2b",
   "metadata": {},
   "outputs": [],
   "source": []
  }
 ],
 "metadata": {
  "kernelspec": {
   "display_name": "Python 3 (ipykernel)",
   "language": "python",
   "name": "python3"
  },
  "language_info": {
   "codemirror_mode": {
    "name": "ipython",
    "version": 3
   },
   "file_extension": ".py",
   "mimetype": "text/x-python",
   "name": "python",
   "nbconvert_exporter": "python",
   "pygments_lexer": "ipython3",
   "version": "3.10.9"
  }
 },
 "nbformat": 4,
 "nbformat_minor": 5
}
