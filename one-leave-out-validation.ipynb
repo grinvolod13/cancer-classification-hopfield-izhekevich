{
 "cells": [
  {
   "cell_type": "code",
   "execution_count": 4,
   "id": "f9a83b05-9973-4ea5-a643-768f634e9742",
   "metadata": {
    "tags": []
   },
   "outputs": [],
   "source": [
    "import sys\n",
    "sys.path.append(\"c:/users/user/Desktop/hopfield-izhikevich/hopfield\")\n",
    "from hopfield import Hopfield"
   ]
  },
  {
   "cell_type": "code",
   "execution_count": 5,
   "id": "1bcbb086-c338-4745-a098-21723d140c49",
   "metadata": {
    "jupyter": {
     "source_hidden": true
    },
    "tags": []
   },
   "outputs": [],
   "source": [
    "import json\n",
    "import jsonlines\n",
    "import os\n",
    "import matplotlib.pyplot as plt\n",
    "import numpy as np\n",
    "import random\n",
    "from pprint import pprint\n",
    "from tqdm import tqdm"
   ]
  },
  {
   "cell_type": "code",
   "execution_count": 6,
   "id": "9c6863a9-5ce1-480c-95bf-6771de3c8694",
   "metadata": {
    "jupyter": {
     "source_hidden": true
    },
    "tags": []
   },
   "outputs": [],
   "source": [
    "def load_dir(dataset: list, path: str, label: bool, sort=True):\n",
    "    dataset.sort(key=lambda e: e[\"id\"])\n",
    "    if dataset:\n",
    "        index = dataset[-1][\"id\"]+1\n",
    "    else:\n",
    "        index = 0\n",
    "    fnames = [(path+\"/Red/\"+i[:2]+\"_Red.txt\", path+\"/Green/\"+i[:2]+\"_Green.txt\",path+\"/Blue/\"+i[:2]+\"_Blue.txt\") for i in [i for i in os.walk(path)][1][2]]\n",
    "    for fname in fnames:\n",
    "        person = {\"id\": index}\n",
    "        person[\"label\"] = label\n",
    "        with open(fname[0],\"r\") as rfile, open(fname[1],\"r\") as gfile, open(fname[2],\"r\") as bfile:\n",
    "            person[\"r\"] = [float(i) for i in rfile.readlines()[1:]]\n",
    "            person[\"g\"] = [float(i) for i in gfile.readlines()[1:]]\n",
    "            person[\"b\"] = [float(i) for i in bfile.readlines()[1:]]\n",
    "        \n",
    "        if sort:\n",
    "            person[\"r\"].sort()\n",
    "            person[\"g\"].sort()            \n",
    "            person[\"b\"].sort()\n",
    "        \n",
    "        index+=1\n",
    "        dataset.append(person)\n",
    "        \n",
    "def load_dataset(dataset: list, path: str, pathpos: str, pathneg: str, sort=True):\n",
    "    load_dir(dataset, path+\"/\"+pathpos, True, sort=sort)\n",
    "    load_dir(dataset, path+\"/\"+pathneg, False, sort=sort)    \n",
    "        \n",
    "        \n",
    "# def get_filter(dataset: list, filter: str):\n",
    "#     if filter!=\"r\" and filter!=\"g\" and filter!=\"b\":\n",
    "#         raise ValueError('Wrong filter: must be \"r\", \"g\", \"b\"')\n",
    "#     new_dataset = []\n",
    "#     for person in dataset:\n",
    "#         new_dataset.append({\"id\": person[\"id\"], \"label\": person[\"label\"], \"data\": person[filter]})\n",
    "    \n",
    "#     return new_dataset\n",
    "\n",
    "def show_plot_by_filter(dataset: list, filter: str):\n",
    "    plt.clf()\n",
    "    if filter!=\"r\" and filter!=\"g\" and filter!=\"b\":\n",
    "        raise ValueError('Wrong filter: must be \"r\", \"g\", \"b\"')\n",
    "    for i in np.arange(0,len(dataset), 1):\n",
    "        color=\"green\"\n",
    "        if dataset[i][\"label\"]:\n",
    "            color=\"red\"\n",
    "        for j in dataset[i][filter]:\n",
    "            plt.plot(i,j, \"o\", markersize=0.5, color=color)\n",
    "    plt.show()\n",
    "\n",
    "    \n",
    "def binarize_person(person: dict, precision=1e-6, up=1.8, down=0.2, radius=0, flatten=True):\n",
    "    person_data = np.zeros((3, int((up-down)//precision)+1), np.float32)\n",
    "    \n",
    "    dots  = (\n",
    "        ((np.array(person[\"r\"]).clip(down, up)-down)//precision).astype(np.uint32),\n",
    "        ((np.array(person[\"g\"]).clip(down, up)-down)//precision).astype(np.uint32),\n",
    "        ((np.array(person[\"b\"]).clip(down, up)-down)//precision).astype(np.uint32))\n",
    "    \n",
    "    for color_index in range(3):\n",
    "        for dot in dots[color_index]:\n",
    "            person_data[color_index][max(0, dot-radius) : min(dot+radius+1, person_data.shape[1])].fill(1)\n",
    "    \n",
    "    if flatten:\n",
    "        return {\"id\": person[\"id\"], \"label\": person[\"label\"], \"data\": person_data.flatten()}\n",
    "    else:\n",
    "        return {\"id\": person[\"id\"], \"label\": person[\"label\"], \"data\": person_data}\n",
    "\n",
    "def show_plot_avg_by_filter(dataset: list, filter: str):\n",
    "    plt.clf()\n",
    "    if filter!=\"r\" and filter!=\"g\" and filter!=\"b\":\n",
    "        raise ValueError('Wrong filter: must be \"r\", \"g\", \"b\"')\n",
    "    for person in dataset:\n",
    "        \n",
    "        if person[\"label\"]:\n",
    "            color=\"red\"\n",
    "            x = 0\n",
    "        else:\n",
    "            color=\"green\"\n",
    "            x = 1\n",
    "             \n",
    "        for y in person[filter]:\n",
    "            plt.plot(x,y, \"o\", markersize=0.5, color=color)\n",
    "    plt.show()\n",
    "    \n"
   ]
  },
  {
   "cell_type": "code",
   "execution_count": 7,
   "id": "df932bb0-c26e-45df-8610-5ec75b4ffa77",
   "metadata": {
    "tags": []
   },
   "outputs": [],
   "source": [
    "dataset = []\n",
    "load_dataset(dataset, \"data_orig/Data\", \"BC\", \"Control\")"
   ]
  },
  {
   "cell_type": "code",
   "execution_count": null,
   "id": "8509833e-2e16-4b72-af4e-5d17da539bdf",
   "metadata": {},
   "outputs": [],
   "source": []
  },
  {
   "cell_type": "code",
   "execution_count": 8,
   "id": "39d4452e-7765-4474-a9c1-05a7c32851b5",
   "metadata": {},
   "outputs": [],
   "source": [
    "q = 0\n",
    "pos = 0\n",
    "time = 5\n",
    "\n"
   ]
  },
  {
   "cell_type": "code",
   "execution_count": null,
   "id": "f0c6456c-223e-4a67-a67e-e79262e1c557",
   "metadata": {},
   "outputs": [],
   "source": []
  },
  {
   "cell_type": "code",
   "execution_count": null,
   "id": "37f73d13-c8fb-41be-aa92-f34120ba0824",
   "metadata": {},
   "outputs": [],
   "source": [
    "dataset_bin = [binarize_person(p, precision=1e-4, radius=0) for p in dataset]\n",
    "raw_data = np.array([i[\"data\"]*2+1 for i in dataset_bin], dtype=np.float32)\n",
    "\n",
    "i=75\n",
    "q=0\n",
    "time=1000\n",
    "\n",
    "dtype=np.float32_mask = np.ones(len(dataset_bin), dtype=bool)\n",
    "_mask[i] = False\n",
    "_X = dataset_bin[i][\"data\"]\n",
    "_images = raw_data[_mask]\n",
    "model = Hopfield(q=q, np_type=dtype)\n",
    "model.train(images=_images)\n",
    "out = model.run(X=_X, time=time)\n",
    "max([(sum(out[\"output\"]==dataset_bin[j][\"data\"])/len(dataset_bin[j][\"data\"])) for j in tdqm(range(len(dataset_bin)))])\n",
    "    "
   ]
  },
  {
   "cell_type": "code",
   "execution_count": 48,
   "id": "124acfe1-061c-481c-8dcb-237ac9f77fe4",
   "metadata": {
    "tags": []
   },
   "outputs": [],
   "source": [
    "\n",
    "    "
   ]
  },
  {
   "cell_type": "code",
   "execution_count": null,
   "id": "d002350c-d816-4899-9a46-8212d3c0f18a",
   "metadata": {},
   "outputs": [],
   "source": []
  },
  {
   "cell_type": "code",
   "execution_count": null,
   "id": "29e1dbf1-2073-4377-a28e-c2df77a59a97",
   "metadata": {},
   "outputs": [],
   "source": []
  },
  {
   "cell_type": "code",
   "execution_count": 8,
   "id": "d58b43a2-5096-4c9c-a60d-91384ca0a66c",
   "metadata": {},
   "outputs": [
    {
     "name": "stderr",
     "output_type": "stream",
     "text": [
      "100%|██████████████████████████████████████████████████████████████████████████████████| 97/97 [00:42<00:00,  2.30it/s]"
     ]
    },
    {
     "name": "stdout",
     "output_type": "stream",
     "text": [
      "0\n"
     ]
    },
    {
     "name": "stderr",
     "output_type": "stream",
     "text": [
      "\n"
     ]
    }
   ],
   "source": [
    "# for i in tqdm(range(len(dataset_bin))):\n",
    "#     _mask = np.ones(len(dataset_bin), dtype=bool)\n",
    "#     _mask[i] = False\n",
    "\n",
    "#     _X = dataset_bin[i][\"data\"]*2-1\n",
    "#     _images = raw_data[_mask]*2-1\n",
    "    \n",
    "#     model = Hopfield(q=q, np_type=np.float32)\n",
    "#     model.train(images=_images)\n",
    "#     # print(\"trained\")\n",
    "#     output = model.run(X=_X, time=time)\n",
    "    \n",
    "#     output[\"output\"] = (output[\"output\"] + 1)*2\n",
    "#     for j in range(len(dataset_bin)-1):\n",
    "#         if (raw_data[_mask][j]==output[\"output\"]).all():\n",
    "#             if i>j:\n",
    "#                 if dataset_bin[i][\"label\"]==dataset_bin[j][\"label\"]:\n",
    "#                     print(\"match\")\n",
    "#                     pos+=1\n",
    "#                     break\n",
    "#             elif dataset_bin[i][\"label\"]==dataset_bin[j+1][\"label\"]:\n",
    "#                 print(\"match\")\n",
    "#                 pos+=1\n",
    "#                 break\n",
    "            \n",
    "        \n",
    "# print(pos)"
   ]
  },
  {
   "cell_type": "code",
   "execution_count": null,
   "id": "b813f860-8ab2-4a0d-945f-c77888ab738e",
   "metadata": {},
   "outputs": [],
   "source": []
  }
 ],
 "metadata": {
  "kernelspec": {
   "display_name": "Python 3 (ipykernel)",
   "language": "python",
   "name": "python3"
  },
  "language_info": {
   "codemirror_mode": {
    "name": "ipython",
    "version": 3
   },
   "file_extension": ".py",
   "mimetype": "text/x-python",
   "name": "python",
   "nbconvert_exporter": "python",
   "pygments_lexer": "ipython3",
   "version": "3.10.9"
  }
 },
 "nbformat": 4,
 "nbformat_minor": 5
}
