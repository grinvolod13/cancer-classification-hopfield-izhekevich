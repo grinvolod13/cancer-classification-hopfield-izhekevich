{
 "cells": [
  {
   "cell_type": "code",
   "execution_count": 1,
   "id": "f9a83b05-9973-4ea5-a643-768f634e9742",
   "metadata": {
    "tags": []
   },
   "outputs": [],
   "source": [
    "import sys\n",
    "sys.path.append(\"C:/Users/User/Desktop/hopfield-izhikevich/hopfield\")\n",
    "from hopfield import Hopfield\n",
    "# import hopfield"
   ]
  },
  {
   "cell_type": "code",
   "execution_count": 2,
   "id": "87a0fd2c-a522-4602-b35a-ec3e1df27b96",
   "metadata": {
    "tags": []
   },
   "outputs": [],
   "source": [
    "import os\n",
    "import matplotlib.pyplot as plt\n",
    "import numpy as np\n",
    "import random\n",
    "from pprint import pprint\n",
    "from tqdm.notebook import tqdm\n",
    "from typing import Callable\n",
    "import numpy\n",
    "import itertools as it"
   ]
  },
  {
   "cell_type": "code",
   "execution_count": 3,
   "id": "9ea24b05-57c5-46f8-9281-b686a5a1617b",
   "metadata": {
    "tags": []
   },
   "outputs": [],
   "source": [
    "import pandas as pd"
   ]
  },
  {
   "cell_type": "code",
   "execution_count": 4,
   "id": "9c6863a9-5ce1-480c-95bf-6771de3c8694",
   "metadata": {
    "tags": []
   },
   "outputs": [],
   "source": [
    "def load_dir(dataset: list, path: str, label: bool, sort=True):\n",
    "    dataset.sort(key=lambda e: e[\"id\"])\n",
    "    if dataset:\n",
    "        index = dataset[-1][\"id\"]+1\n",
    "    else:\n",
    "        index = 0\n",
    "    fnames = [(path+\"/Red/\"+i[:2]+\"_Red.txt\", path+\"/Green/\"+i[:2]+\"_Green.txt\",path+\"/Blue/\"+i[:2]+\"_Blue.txt\") for i in [i for i in os.walk(path)][1][2]]\n",
    "    for fname in fnames:\n",
    "        person = {\"id\": index}\n",
    "        person[\"label\"] = label\n",
    "        with open(fname[0],\"r\") as rfile, open(fname[1],\"r\") as gfile, open(fname[2],\"r\") as bfile:\n",
    "            person[\"r\"] = [float(i) for i in rfile.readlines()[1:]]\n",
    "            person[\"g\"] = [float(i) for i in gfile.readlines()[1:]]\n",
    "            person[\"b\"] = [float(i) for i in bfile.readlines()[1:]]\n",
    "        \n",
    "        if sort:\n",
    "            person[\"r\"].sort()\n",
    "            person[\"g\"].sort()            \n",
    "            person[\"b\"].sort()\n",
    "        \n",
    "        index+=1\n",
    "        dataset.append(person)\n",
    "        \n",
    "def load_dataset(dataset: list, path: str, pathpos: str, pathneg: str, sort=True):\n",
    "    load_dir(dataset, path+\"/\"+pathpos, True, sort=sort)\n",
    "    load_dir(dataset, path+\"/\"+pathneg, False, sort=sort)    \n",
    "        \n",
    "        \n",
    "# def get_filter(dataset: list, filter: str):\n",
    "#     if filter!=\"r\" and filter!=\"g\" and filter!=\"b\":\n",
    "#         raise ValueError('Wrong filter: must be \"r\", \"g\", \"b\"')\n",
    "#     new_dataset = []\n",
    "#     for person in dataset:\n",
    "#         new_dataset.append({\"id\": person[\"id\"], \"label\": person[\"label\"], \"data\": person[filter]})\n",
    "    \n",
    "#     return new_dataset\n",
    "\n",
    "def show_plot_by_filter(dataset: list, filter: str):\n",
    "    plt.clf()\n",
    "    if filter!=\"r\" and filter!=\"g\" and filter!=\"b\":\n",
    "        raise ValueError('Wrong filter: must be \"r\", \"g\", \"b\"')\n",
    "    for i in np.arange(0,len(dataset), 1):\n",
    "        color=\"green\"\n",
    "        if dataset[i][\"label\"]:\n",
    "            color=\"red\"\n",
    "        for j in dataset[i][filter]:\n",
    "            plt.plot(i,j, \"o\", markersize=0.5, color=color)\n",
    "    plt.show()\n",
    "\n",
    "    \n",
    "def binarize_person(person: dict, precision=1e-3, up=1.8, down=0.2, radius=0, flatten=True, filters=3):\n",
    "    person_data = np.zeros((3, int((up-down)//precision)+1), np.float32)[0:filters]\n",
    "    \n",
    "    dots  = (\n",
    "        ((np.array(person[\"r\"]).clip(down, up)-down)//precision).astype(np.uint32),\n",
    "        ((np.array(person[\"g\"]).clip(down, up)-down)//precision).astype(np.uint32),\n",
    "        ((np.array(person[\"b\"]).clip(down, up)-down)//precision).astype(np.uint32))[0:filters]\n",
    "#     r = np.array(person[\"r\"])\n",
    "#     g = np.array(person[\"g\"])\n",
    "#     b = np.array(person[\"b\"])\n",
    "    \n",
    "    \n",
    "#     dots  = (\n",
    "#         ((r[up>r & r>down]-down)//precision).astype(np.uint32),\n",
    "#         (([up>g & g>down]-down)//precision).astype(np.uint32),\n",
    "#         (([up>b & b>down]-down)//precision).astype(np.uint32))[0:filters]\n",
    "    \n",
    "    \n",
    "    \n",
    "    for color_index in range(filters):\n",
    "        for dot in dots[color_index]:\n",
    "            person_data[color_index][max(0, dot-radius) : min(dot+radius+1, person_data.shape[1])].fill(1)\n",
    "    \n",
    "    if flatten:\n",
    "        return {\"id\": person[\"id\"], \"label\": person[\"label\"], \"data\": person_data.flatten()}\n",
    "    else:\n",
    "        return {\"id\": person[\"id\"], \"label\": person[\"label\"], \"data\": person_data}\n",
    "\n",
    "def show_plot_avg_by_filter(dataset: list, filter: str):\n",
    "    plt.clf()\n",
    "    if filter!=\"r\" and filter!=\"g\" and filter!=\"b\":\n",
    "        raise ValueError('Wrong filter: must be \"r\", \"g\", \"b\"')\n",
    "    for person in dataset:\n",
    "        \n",
    "        if person[\"label\"]:\n",
    "            color=\"red\"\n",
    "            x = 0\n",
    "        else:\n",
    "            color=\"green\"\n",
    "            x = 1\n",
    "             \n",
    "        for y in person[filter]:\n",
    "            plt.plot(x,y, \"o\", markersize=0.5, color=color)\n",
    "    plt.show()\n",
    "    \n"
   ]
  },
  {
   "cell_type": "code",
   "execution_count": 5,
   "id": "8509833e-2e16-4b72-af4e-5d17da539bdf",
   "metadata": {},
   "outputs": [],
   "source": [
    "def diceScore(a: np.ndarray, b: np.ndarray):\n",
    "    if(len(a)!=len(b)):\n",
    "        raise IndexError \n",
    "    tp = 0\n",
    "    for i in range(min(len(a), len(b))):\n",
    "        if a[i]>0 and b[i]>0:\n",
    "            tp+=1\n",
    "    return 2*tp/(sum(a>0)+sum(b>0))"
   ]
  },
  {
   "cell_type": "code",
   "execution_count": 6,
   "id": "6a96f4d3-e595-4353-913a-8af5fc99f95c",
   "metadata": {},
   "outputs": [],
   "source": [
    "def fullMatch(a: np.ndarray, b: np.ndarray):\n",
    "    if(len(a)!=len(b)):\n",
    "        raise IndexError \n",
    "    tp = 0\n",
    "    for i in range(min(len(a), len(b))):\n",
    "        if (a[i]>0 and b[i]>0) or (a[i]<0 and b[i]<0):\n",
    "            tp+=1\n",
    "    return tp/(len(a))"
   ]
  },
  {
   "cell_type": "code",
   "execution_count": 7,
   "id": "88f3ec93-36c0-4632-bf3c-60d282b33ee4",
   "metadata": {},
   "outputs": [
    {
     "data": {
      "text/plain": [
       "0.6666666666666666"
      ]
     },
     "execution_count": 7,
     "metadata": {},
     "output_type": "execute_result"
    }
   ],
   "source": [
    "diceScore(np.array([1,1,1,1,-1]),np.array([1,-1,-1,1,-1]))"
   ]
  },
  {
   "cell_type": "code",
   "execution_count": 8,
   "id": "37f73d13-c8fb-41be-aa92-f34120ba0824",
   "metadata": {},
   "outputs": [],
   "source": [
    "def max_score_i(dataset: np.ndarray, X: np.ndarray, i: int, score_fn: Callable):\n",
    "    if i==0:\n",
    "        max_i = 1\n",
    "    else:\n",
    "        max_i = 0\n",
    "    # print(f\"len {len(dataset)}\")\n",
    "    for j in (k for k in range(len(dataset)) if k!=i):\n",
    "        if score_fn(X,dataset[max_i]) <= score_fn(X,dataset[j]):\n",
    "            max_i = j\n",
    "            \n",
    "    return max_i"
   ]
  },
  {
   "cell_type": "code",
   "execution_count": 9,
   "id": "ce90c7d1-98a8-4276-bff1-e6505ee7056c",
   "metadata": {},
   "outputs": [],
   "source": [
    "def cartesian_product(*arrays):\n",
    "    la = len(arrays)\n",
    "    dtype = numpy.result_type(*arrays)\n",
    "    arr = numpy.empty([len(a) for a in arrays] + [la], dtype=dtype)\n",
    "    for i, a in enumerate(numpy.ix_(*arrays)):\n",
    "        arr[...,i] = a\n",
    "    return arr.reshape(-1, la)"
   ]
  },
  {
   "cell_type": "code",
   "execution_count": 10,
   "id": "df932bb0-c26e-45df-8610-5ec75b4ffa77",
   "metadata": {
    "tags": []
   },
   "outputs": [],
   "source": [
    "dataset = []\n",
    "load_dataset(dataset, \"data_orig/Data\", \"BC\", \"Control\")"
   ]
  },
  {
   "cell_type": "markdown",
   "id": "7449c736",
   "metadata": {},
   "source": [
    "## One-leave-out with dice score"
   ]
  },
  {
   "cell_type": "code",
   "execution_count": 45,
   "id": "9d5e0ce1-97a7-401e-bf27-4fd74309bdc4",
   "metadata": {
    "tags": []
   },
   "outputs": [],
   "source": [
    "q_range=(0,0.6,7)\n",
    "r_range=(10,50,9)\n",
    "q = np.linspace(*q_range, dtype=np.float32)\n",
    "r = np.linspace(*r_range,dtype=int)\n",
    "tests = list(it.product(q,r))\n",
    "_dataset=dataset[39:]"
   ]
  },
  {
   "cell_type": "code",
   "execution_count": 47,
   "id": "9c5c5b2e-91d6-4f77-a10d-969098b1cca4",
   "metadata": {
    "collapsed": true,
    "jupyter": {
     "outputs_hidden": true
    },
    "tags": []
   },
   "outputs": [
    {
     "data": {
      "application/vnd.jupyter.widget-view+json": {
       "model_id": "5a4d1eee03ad479399ed34b63ab085f7",
       "version_major": 2,
       "version_minor": 0
      },
      "text/plain": [
       "  0%|          | 0/63 [00:00<?, ?it/s]"
      ]
     },
     "metadata": {},
     "output_type": "display_data"
    },
    {
     "data": {
      "application/vnd.jupyter.widget-view+json": {
       "model_id": "66c0078f16684fecb7cec585634a02a1",
       "version_major": 2,
       "version_minor": 0
      },
      "text/plain": [
       "  0%|          | 0/58 [00:00<?, ?it/s]"
      ]
     },
     "metadata": {},
     "output_type": "display_data"
    },
    {
     "name": "stdout",
     "output_type": "stream",
     "text": [
      "qr (0.0, 10)  score  0.5\n"
     ]
    },
    {
     "data": {
      "application/vnd.jupyter.widget-view+json": {
       "model_id": "f700ab226f5d4b9a8dba4247b09197c9",
       "version_major": 2,
       "version_minor": 0
      },
      "text/plain": [
       "  0%|          | 0/58 [00:00<?, ?it/s]"
      ]
     },
     "metadata": {},
     "output_type": "display_data"
    },
    {
     "name": "stdout",
     "output_type": "stream",
     "text": [
      "qr (0.0, 15)  score  0.5\n"
     ]
    },
    {
     "data": {
      "application/vnd.jupyter.widget-view+json": {
       "model_id": "e7ba2b4e2da047bb8c2aec16d91c2afd",
       "version_major": 2,
       "version_minor": 0
      },
      "text/plain": [
       "  0%|          | 0/58 [00:00<?, ?it/s]"
      ]
     },
     "metadata": {},
     "output_type": "display_data"
    },
    {
     "name": "stdout",
     "output_type": "stream",
     "text": [
      "qr (0.0, 20)  score  0.5517241379310345\n"
     ]
    },
    {
     "data": {
      "application/vnd.jupyter.widget-view+json": {
       "model_id": "c6347506c7514a439e9f15ad631f6d73",
       "version_major": 2,
       "version_minor": 0
      },
      "text/plain": [
       "  0%|          | 0/58 [00:00<?, ?it/s]"
      ]
     },
     "metadata": {},
     "output_type": "display_data"
    },
    {
     "name": "stdout",
     "output_type": "stream",
     "text": [
      "qr (0.0, 25)  score  0.5517241379310345\n"
     ]
    },
    {
     "data": {
      "application/vnd.jupyter.widget-view+json": {
       "model_id": "10e78e745843481daffa9d989a189868",
       "version_major": 2,
       "version_minor": 0
      },
      "text/plain": [
       "  0%|          | 0/58 [00:00<?, ?it/s]"
      ]
     },
     "metadata": {},
     "output_type": "display_data"
    },
    {
     "name": "stdout",
     "output_type": "stream",
     "text": [
      "qr (0.0, 30)  score  0.43103448275862066\n"
     ]
    },
    {
     "data": {
      "application/vnd.jupyter.widget-view+json": {
       "model_id": "8a255a391f474a19a034f1aedce02641",
       "version_major": 2,
       "version_minor": 0
      },
      "text/plain": [
       "  0%|          | 0/58 [00:00<?, ?it/s]"
      ]
     },
     "metadata": {},
     "output_type": "display_data"
    },
    {
     "name": "stdout",
     "output_type": "stream",
     "text": [
      "qr (0.0, 35)  score  0.46551724137931033\n"
     ]
    },
    {
     "data": {
      "application/vnd.jupyter.widget-view+json": {
       "model_id": "e1e7425e03a94fd3b7e41c880fa12a3d",
       "version_major": 2,
       "version_minor": 0
      },
      "text/plain": [
       "  0%|          | 0/58 [00:00<?, ?it/s]"
      ]
     },
     "metadata": {},
     "output_type": "display_data"
    },
    {
     "name": "stdout",
     "output_type": "stream",
     "text": [
      "qr (0.0, 40)  score  0.5172413793103449\n"
     ]
    },
    {
     "data": {
      "application/vnd.jupyter.widget-view+json": {
       "model_id": "d86f4c973d704d3b84bb08edfd22596e",
       "version_major": 2,
       "version_minor": 0
      },
      "text/plain": [
       "  0%|          | 0/58 [00:00<?, ?it/s]"
      ]
     },
     "metadata": {},
     "output_type": "display_data"
    },
    {
     "name": "stdout",
     "output_type": "stream",
     "text": [
      "qr (0.0, 45)  score  0.603448275862069\n"
     ]
    },
    {
     "data": {
      "application/vnd.jupyter.widget-view+json": {
       "model_id": "b9a1c5484d864cdc867edc3df8862d64",
       "version_major": 2,
       "version_minor": 0
      },
      "text/plain": [
       "  0%|          | 0/58 [00:00<?, ?it/s]"
      ]
     },
     "metadata": {},
     "output_type": "display_data"
    },
    {
     "name": "stdout",
     "output_type": "stream",
     "text": [
      "qr (0.0, 50)  score  0.4482758620689655\n"
     ]
    },
    {
     "data": {
      "application/vnd.jupyter.widget-view+json": {
       "model_id": "80b36128c95d4fb88fe2b1341c23a9ef",
       "version_major": 2,
       "version_minor": 0
      },
      "text/plain": [
       "  0%|          | 0/58 [00:00<?, ?it/s]"
      ]
     },
     "metadata": {},
     "output_type": "display_data"
    },
    {
     "name": "stdout",
     "output_type": "stream",
     "text": [
      "qr (0.1, 10)  score  0.5172413793103449\n"
     ]
    },
    {
     "data": {
      "application/vnd.jupyter.widget-view+json": {
       "model_id": "db88ff6a77bf4c3fbcc272fe473d9f8e",
       "version_major": 2,
       "version_minor": 0
      },
      "text/plain": [
       "  0%|          | 0/58 [00:00<?, ?it/s]"
      ]
     },
     "metadata": {},
     "output_type": "display_data"
    },
    {
     "name": "stdout",
     "output_type": "stream",
     "text": [
      "qr (0.1, 15)  score  0.5\n"
     ]
    },
    {
     "data": {
      "application/vnd.jupyter.widget-view+json": {
       "model_id": "6093dd71f58e4ad38df2fb2ec036982a",
       "version_major": 2,
       "version_minor": 0
      },
      "text/plain": [
       "  0%|          | 0/58 [00:00<?, ?it/s]"
      ]
     },
     "metadata": {},
     "output_type": "display_data"
    },
    {
     "name": "stdout",
     "output_type": "stream",
     "text": [
      "qr (0.1, 20)  score  0.5344827586206896\n"
     ]
    },
    {
     "data": {
      "application/vnd.jupyter.widget-view+json": {
       "model_id": "560522c6ea24404e94f28e8581b73786",
       "version_major": 2,
       "version_minor": 0
      },
      "text/plain": [
       "  0%|          | 0/58 [00:00<?, ?it/s]"
      ]
     },
     "metadata": {},
     "output_type": "display_data"
    },
    {
     "name": "stdout",
     "output_type": "stream",
     "text": [
      "qr (0.1, 25)  score  0.6206896551724138\n"
     ]
    },
    {
     "data": {
      "application/vnd.jupyter.widget-view+json": {
       "model_id": "53517eef71174faaa960b3ad08832484",
       "version_major": 2,
       "version_minor": 0
      },
      "text/plain": [
       "  0%|          | 0/58 [00:00<?, ?it/s]"
      ]
     },
     "metadata": {},
     "output_type": "display_data"
    },
    {
     "name": "stdout",
     "output_type": "stream",
     "text": [
      "qr (0.1, 30)  score  0.5172413793103449\n"
     ]
    },
    {
     "data": {
      "application/vnd.jupyter.widget-view+json": {
       "model_id": "ea8ec0f9998e45de97f3e3834438bad0",
       "version_major": 2,
       "version_minor": 0
      },
      "text/plain": [
       "  0%|          | 0/58 [00:00<?, ?it/s]"
      ]
     },
     "metadata": {},
     "output_type": "display_data"
    },
    {
     "name": "stdout",
     "output_type": "stream",
     "text": [
      "qr (0.1, 35)  score  0.4827586206896552\n"
     ]
    },
    {
     "data": {
      "application/vnd.jupyter.widget-view+json": {
       "model_id": "f08a77319985436082adb3b67663ca48",
       "version_major": 2,
       "version_minor": 0
      },
      "text/plain": [
       "  0%|          | 0/58 [00:00<?, ?it/s]"
      ]
     },
     "metadata": {},
     "output_type": "display_data"
    },
    {
     "name": "stdout",
     "output_type": "stream",
     "text": [
      "qr (0.1, 40)  score  0.4827586206896552\n"
     ]
    },
    {
     "data": {
      "application/vnd.jupyter.widget-view+json": {
       "model_id": "1bdf93dd349a450389c248d92c2fd443",
       "version_major": 2,
       "version_minor": 0
      },
      "text/plain": [
       "  0%|          | 0/58 [00:00<?, ?it/s]"
      ]
     },
     "metadata": {},
     "output_type": "display_data"
    },
    {
     "name": "stdout",
     "output_type": "stream",
     "text": [
      "qr (0.1, 45)  score  0.5172413793103449\n"
     ]
    },
    {
     "data": {
      "application/vnd.jupyter.widget-view+json": {
       "model_id": "4d9644f232b44f0f8943f66f620c0888",
       "version_major": 2,
       "version_minor": 0
      },
      "text/plain": [
       "  0%|          | 0/58 [00:00<?, ?it/s]"
      ]
     },
     "metadata": {},
     "output_type": "display_data"
    },
    {
     "name": "stdout",
     "output_type": "stream",
     "text": [
      "qr (0.1, 50)  score  0.5172413793103449\n"
     ]
    },
    {
     "data": {
      "application/vnd.jupyter.widget-view+json": {
       "model_id": "fe999d8a71dd4af6bcee227df1e58c21",
       "version_major": 2,
       "version_minor": 0
      },
      "text/plain": [
       "  0%|          | 0/58 [00:00<?, ?it/s]"
      ]
     },
     "metadata": {},
     "output_type": "display_data"
    },
    {
     "name": "stdout",
     "output_type": "stream",
     "text": [
      "qr (0.2, 10)  score  0.5\n"
     ]
    },
    {
     "data": {
      "application/vnd.jupyter.widget-view+json": {
       "model_id": "97dff8de03e44326b9d7092bab1ae52d",
       "version_major": 2,
       "version_minor": 0
      },
      "text/plain": [
       "  0%|          | 0/58 [00:00<?, ?it/s]"
      ]
     },
     "metadata": {},
     "output_type": "display_data"
    },
    {
     "name": "stdout",
     "output_type": "stream",
     "text": [
      "qr (0.2, 15)  score  0.5\n"
     ]
    },
    {
     "data": {
      "application/vnd.jupyter.widget-view+json": {
       "model_id": "f79a51618da349558ad5a39e14d8bf67",
       "version_major": 2,
       "version_minor": 0
      },
      "text/plain": [
       "  0%|          | 0/58 [00:00<?, ?it/s]"
      ]
     },
     "metadata": {},
     "output_type": "display_data"
    },
    {
     "name": "stdout",
     "output_type": "stream",
     "text": [
      "qr (0.2, 20)  score  0.5689655172413793\n"
     ]
    },
    {
     "data": {
      "application/vnd.jupyter.widget-view+json": {
       "model_id": "d892e4f13ab74d47a517701cb766f3c6",
       "version_major": 2,
       "version_minor": 0
      },
      "text/plain": [
       "  0%|          | 0/58 [00:00<?, ?it/s]"
      ]
     },
     "metadata": {},
     "output_type": "display_data"
    },
    {
     "name": "stdout",
     "output_type": "stream",
     "text": [
      "qr (0.2, 25)  score  0.5517241379310345\n"
     ]
    },
    {
     "data": {
      "application/vnd.jupyter.widget-view+json": {
       "model_id": "ff9e16ba4a554063852228e3edd5ef4f",
       "version_major": 2,
       "version_minor": 0
      },
      "text/plain": [
       "  0%|          | 0/58 [00:00<?, ?it/s]"
      ]
     },
     "metadata": {},
     "output_type": "display_data"
    },
    {
     "name": "stdout",
     "output_type": "stream",
     "text": [
      "qr (0.2, 30)  score  0.46551724137931033\n"
     ]
    },
    {
     "data": {
      "application/vnd.jupyter.widget-view+json": {
       "model_id": "bc558c4eaf9a48579f7e3e21e23e9309",
       "version_major": 2,
       "version_minor": 0
      },
      "text/plain": [
       "  0%|          | 0/58 [00:00<?, ?it/s]"
      ]
     },
     "metadata": {},
     "output_type": "display_data"
    },
    {
     "name": "stdout",
     "output_type": "stream",
     "text": [
      "qr (0.2, 35)  score  0.46551724137931033\n"
     ]
    },
    {
     "data": {
      "application/vnd.jupyter.widget-view+json": {
       "model_id": "f444b052ea4d4d108dbea6276b2828b6",
       "version_major": 2,
       "version_minor": 0
      },
      "text/plain": [
       "  0%|          | 0/58 [00:00<?, ?it/s]"
      ]
     },
     "metadata": {},
     "output_type": "display_data"
    },
    {
     "name": "stdout",
     "output_type": "stream",
     "text": [
      "qr (0.2, 40)  score  0.4827586206896552\n"
     ]
    },
    {
     "data": {
      "application/vnd.jupyter.widget-view+json": {
       "model_id": "b6b575ca69434d0dbc185da67b40956e",
       "version_major": 2,
       "version_minor": 0
      },
      "text/plain": [
       "  0%|          | 0/58 [00:00<?, ?it/s]"
      ]
     },
     "metadata": {},
     "output_type": "display_data"
    },
    {
     "name": "stdout",
     "output_type": "stream",
     "text": [
      "qr (0.2, 45)  score  0.5172413793103449\n"
     ]
    },
    {
     "data": {
      "application/vnd.jupyter.widget-view+json": {
       "model_id": "eea80a34f59f4114bcbbb9ead607cd26",
       "version_major": 2,
       "version_minor": 0
      },
      "text/plain": [
       "  0%|          | 0/58 [00:00<?, ?it/s]"
      ]
     },
     "metadata": {},
     "output_type": "display_data"
    },
    {
     "name": "stdout",
     "output_type": "stream",
     "text": [
      "qr (0.2, 50)  score  0.5\n"
     ]
    },
    {
     "data": {
      "application/vnd.jupyter.widget-view+json": {
       "model_id": "8e06e55f3e3440a2ba89eb41f9791f2c",
       "version_major": 2,
       "version_minor": 0
      },
      "text/plain": [
       "  0%|          | 0/58 [00:00<?, ?it/s]"
      ]
     },
     "metadata": {},
     "output_type": "display_data"
    },
    {
     "name": "stdout",
     "output_type": "stream",
     "text": [
      "qr (0.3, 10)  score  0.4827586206896552\n"
     ]
    },
    {
     "data": {
      "application/vnd.jupyter.widget-view+json": {
       "model_id": "66f6b993b52c42d2bc3cae21cecd8922",
       "version_major": 2,
       "version_minor": 0
      },
      "text/plain": [
       "  0%|          | 0/58 [00:00<?, ?it/s]"
      ]
     },
     "metadata": {},
     "output_type": "display_data"
    },
    {
     "name": "stdout",
     "output_type": "stream",
     "text": [
      "qr (0.3, 15)  score  0.5\n"
     ]
    },
    {
     "data": {
      "application/vnd.jupyter.widget-view+json": {
       "model_id": "a2321754742d4278bedd252aaf097e20",
       "version_major": 2,
       "version_minor": 0
      },
      "text/plain": [
       "  0%|          | 0/58 [00:00<?, ?it/s]"
      ]
     },
     "metadata": {},
     "output_type": "display_data"
    },
    {
     "name": "stdout",
     "output_type": "stream",
     "text": [
      "qr (0.3, 20)  score  0.5517241379310345\n"
     ]
    },
    {
     "data": {
      "application/vnd.jupyter.widget-view+json": {
       "model_id": "7d839f72550e4c90a5e2c54d84e63b2f",
       "version_major": 2,
       "version_minor": 0
      },
      "text/plain": [
       "  0%|          | 0/58 [00:00<?, ?it/s]"
      ]
     },
     "metadata": {},
     "output_type": "display_data"
    },
    {
     "name": "stdout",
     "output_type": "stream",
     "text": [
      "qr (0.3, 25)  score  0.6379310344827587\n"
     ]
    },
    {
     "data": {
      "application/vnd.jupyter.widget-view+json": {
       "model_id": "99c0ac1c1cc143dfbd926365f6929072",
       "version_major": 2,
       "version_minor": 0
      },
      "text/plain": [
       "  0%|          | 0/58 [00:00<?, ?it/s]"
      ]
     },
     "metadata": {},
     "output_type": "display_data"
    },
    {
     "name": "stdout",
     "output_type": "stream",
     "text": [
      "qr (0.3, 30)  score  0.5517241379310345\n"
     ]
    },
    {
     "data": {
      "application/vnd.jupyter.widget-view+json": {
       "model_id": "eba23cc322874e8d94f69262a922bbe3",
       "version_major": 2,
       "version_minor": 0
      },
      "text/plain": [
       "  0%|          | 0/58 [00:00<?, ?it/s]"
      ]
     },
     "metadata": {},
     "output_type": "display_data"
    },
    {
     "name": "stdout",
     "output_type": "stream",
     "text": [
      "qr (0.3, 35)  score  0.4482758620689655\n"
     ]
    },
    {
     "data": {
      "application/vnd.jupyter.widget-view+json": {
       "model_id": "f95212856c5a4323a41e3790dac163c0",
       "version_major": 2,
       "version_minor": 0
      },
      "text/plain": [
       "  0%|          | 0/58 [00:00<?, ?it/s]"
      ]
     },
     "metadata": {},
     "output_type": "display_data"
    },
    {
     "name": "stdout",
     "output_type": "stream",
     "text": [
      "qr (0.3, 40)  score  0.43103448275862066\n"
     ]
    },
    {
     "data": {
      "application/vnd.jupyter.widget-view+json": {
       "model_id": "b1fa6d5f773a49789142ecc26e6c1433",
       "version_major": 2,
       "version_minor": 0
      },
      "text/plain": [
       "  0%|          | 0/58 [00:00<?, ?it/s]"
      ]
     },
     "metadata": {},
     "output_type": "display_data"
    },
    {
     "name": "stdout",
     "output_type": "stream",
     "text": [
      "qr (0.3, 45)  score  0.4827586206896552\n"
     ]
    },
    {
     "data": {
      "application/vnd.jupyter.widget-view+json": {
       "model_id": "94929e46781e466cb05b570aeee72a43",
       "version_major": 2,
       "version_minor": 0
      },
      "text/plain": [
       "  0%|          | 0/58 [00:00<?, ?it/s]"
      ]
     },
     "metadata": {},
     "output_type": "display_data"
    },
    {
     "name": "stdout",
     "output_type": "stream",
     "text": [
      "qr (0.3, 50)  score  0.5517241379310345\n"
     ]
    },
    {
     "data": {
      "application/vnd.jupyter.widget-view+json": {
       "model_id": "993e975c650a491fb141e2a31b5a43d1",
       "version_major": 2,
       "version_minor": 0
      },
      "text/plain": [
       "  0%|          | 0/58 [00:00<?, ?it/s]"
      ]
     },
     "metadata": {},
     "output_type": "display_data"
    },
    {
     "name": "stdout",
     "output_type": "stream",
     "text": [
      "qr (0.4, 10)  score  0.4827586206896552\n"
     ]
    },
    {
     "data": {
      "application/vnd.jupyter.widget-view+json": {
       "model_id": "97bb248454254050be11f27b4b47fe51",
       "version_major": 2,
       "version_minor": 0
      },
      "text/plain": [
       "  0%|          | 0/58 [00:00<?, ?it/s]"
      ]
     },
     "metadata": {},
     "output_type": "display_data"
    },
    {
     "name": "stdout",
     "output_type": "stream",
     "text": [
      "qr (0.4, 15)  score  0.4827586206896552\n"
     ]
    },
    {
     "data": {
      "application/vnd.jupyter.widget-view+json": {
       "model_id": "c752673251b244db9ef1929bbe3cb4de",
       "version_major": 2,
       "version_minor": 0
      },
      "text/plain": [
       "  0%|          | 0/58 [00:00<?, ?it/s]"
      ]
     },
     "metadata": {},
     "output_type": "display_data"
    },
    {
     "name": "stdout",
     "output_type": "stream",
     "text": [
      "qr (0.4, 20)  score  0.5344827586206896\n"
     ]
    },
    {
     "data": {
      "application/vnd.jupyter.widget-view+json": {
       "model_id": "b2008ffddd2843b4ba8adaae5fe9c4b5",
       "version_major": 2,
       "version_minor": 0
      },
      "text/plain": [
       "  0%|          | 0/58 [00:00<?, ?it/s]"
      ]
     },
     "metadata": {},
     "output_type": "display_data"
    },
    {
     "name": "stdout",
     "output_type": "stream",
     "text": [
      "qr (0.4, 25)  score  0.5862068965517241\n"
     ]
    },
    {
     "data": {
      "application/vnd.jupyter.widget-view+json": {
       "model_id": "a7c467a9e3364a1da9a2f8fd47e7025f",
       "version_major": 2,
       "version_minor": 0
      },
      "text/plain": [
       "  0%|          | 0/58 [00:00<?, ?it/s]"
      ]
     },
     "metadata": {},
     "output_type": "display_data"
    },
    {
     "name": "stdout",
     "output_type": "stream",
     "text": [
      "qr (0.4, 30)  score  0.5172413793103449\n"
     ]
    },
    {
     "data": {
      "application/vnd.jupyter.widget-view+json": {
       "model_id": "3fce3c9bee3c4392b12e1fa3b49ccaf4",
       "version_major": 2,
       "version_minor": 0
      },
      "text/plain": [
       "  0%|          | 0/58 [00:00<?, ?it/s]"
      ]
     },
     "metadata": {},
     "output_type": "display_data"
    },
    {
     "name": "stdout",
     "output_type": "stream",
     "text": [
      "qr (0.4, 35)  score  0.5\n"
     ]
    },
    {
     "data": {
      "application/vnd.jupyter.widget-view+json": {
       "model_id": "4efe27ec184b48768f40c6bd58ec7b6f",
       "version_major": 2,
       "version_minor": 0
      },
      "text/plain": [
       "  0%|          | 0/58 [00:00<?, ?it/s]"
      ]
     },
     "metadata": {},
     "output_type": "display_data"
    },
    {
     "name": "stdout",
     "output_type": "stream",
     "text": [
      "qr (0.4, 40)  score  0.5\n"
     ]
    },
    {
     "data": {
      "application/vnd.jupyter.widget-view+json": {
       "model_id": "0a833b6a660846119c84f6b716908503",
       "version_major": 2,
       "version_minor": 0
      },
      "text/plain": [
       "  0%|          | 0/58 [00:00<?, ?it/s]"
      ]
     },
     "metadata": {},
     "output_type": "display_data"
    },
    {
     "name": "stdout",
     "output_type": "stream",
     "text": [
      "qr (0.4, 45)  score  0.4827586206896552\n"
     ]
    },
    {
     "data": {
      "application/vnd.jupyter.widget-view+json": {
       "model_id": "1d704249ddd046f2909bd89c83a5e404",
       "version_major": 2,
       "version_minor": 0
      },
      "text/plain": [
       "  0%|          | 0/58 [00:00<?, ?it/s]"
      ]
     },
     "metadata": {},
     "output_type": "display_data"
    },
    {
     "name": "stdout",
     "output_type": "stream",
     "text": [
      "qr (0.4, 50)  score  0.4827586206896552\n"
     ]
    },
    {
     "data": {
      "application/vnd.jupyter.widget-view+json": {
       "model_id": "4b0ca39f7bff4ea0b90e13d68d8d8648",
       "version_major": 2,
       "version_minor": 0
      },
      "text/plain": [
       "  0%|          | 0/58 [00:00<?, ?it/s]"
      ]
     },
     "metadata": {},
     "output_type": "display_data"
    },
    {
     "name": "stdout",
     "output_type": "stream",
     "text": [
      "qr (0.5, 10)  score  0.5\n"
     ]
    },
    {
     "data": {
      "application/vnd.jupyter.widget-view+json": {
       "model_id": "b42c9f93b4ec42a0b4330970bec65312",
       "version_major": 2,
       "version_minor": 0
      },
      "text/plain": [
       "  0%|          | 0/58 [00:00<?, ?it/s]"
      ]
     },
     "metadata": {},
     "output_type": "display_data"
    },
    {
     "name": "stdout",
     "output_type": "stream",
     "text": [
      "qr (0.5, 15)  score  0.5\n"
     ]
    },
    {
     "data": {
      "application/vnd.jupyter.widget-view+json": {
       "model_id": "16e1c8f9323c49098c84b54ac740ea1c",
       "version_major": 2,
       "version_minor": 0
      },
      "text/plain": [
       "  0%|          | 0/58 [00:00<?, ?it/s]"
      ]
     },
     "metadata": {},
     "output_type": "display_data"
    },
    {
     "name": "stdout",
     "output_type": "stream",
     "text": [
      "qr (0.5, 20)  score  0.5689655172413793\n"
     ]
    },
    {
     "data": {
      "application/vnd.jupyter.widget-view+json": {
       "model_id": "d61f4ab8b85f4cbe8a8e3621f7df2f0c",
       "version_major": 2,
       "version_minor": 0
      },
      "text/plain": [
       "  0%|          | 0/58 [00:00<?, ?it/s]"
      ]
     },
     "metadata": {},
     "output_type": "display_data"
    },
    {
     "name": "stdout",
     "output_type": "stream",
     "text": [
      "qr (0.5, 25)  score  0.603448275862069\n"
     ]
    },
    {
     "data": {
      "application/vnd.jupyter.widget-view+json": {
       "model_id": "a11131c77d5e474f81427ca69a118f3d",
       "version_major": 2,
       "version_minor": 0
      },
      "text/plain": [
       "  0%|          | 0/58 [00:00<?, ?it/s]"
      ]
     },
     "metadata": {},
     "output_type": "display_data"
    },
    {
     "name": "stdout",
     "output_type": "stream",
     "text": [
      "qr (0.5, 30)  score  0.4827586206896552\n"
     ]
    },
    {
     "data": {
      "application/vnd.jupyter.widget-view+json": {
       "model_id": "875cd96a22f94114b6860f2d907ae7c0",
       "version_major": 2,
       "version_minor": 0
      },
      "text/plain": [
       "  0%|          | 0/58 [00:00<?, ?it/s]"
      ]
     },
     "metadata": {},
     "output_type": "display_data"
    },
    {
     "name": "stdout",
     "output_type": "stream",
     "text": [
      "qr (0.5, 35)  score  0.5172413793103449\n"
     ]
    },
    {
     "data": {
      "application/vnd.jupyter.widget-view+json": {
       "model_id": "10942dc65ab842fd9c53575654141405",
       "version_major": 2,
       "version_minor": 0
      },
      "text/plain": [
       "  0%|          | 0/58 [00:00<?, ?it/s]"
      ]
     },
     "metadata": {},
     "output_type": "display_data"
    },
    {
     "name": "stdout",
     "output_type": "stream",
     "text": [
      "qr (0.5, 40)  score  0.5\n"
     ]
    },
    {
     "data": {
      "application/vnd.jupyter.widget-view+json": {
       "model_id": "861ad11e92404b019b048d80c9c0205a",
       "version_major": 2,
       "version_minor": 0
      },
      "text/plain": [
       "  0%|          | 0/58 [00:00<?, ?it/s]"
      ]
     },
     "metadata": {},
     "output_type": "display_data"
    },
    {
     "name": "stdout",
     "output_type": "stream",
     "text": [
      "qr (0.5, 45)  score  0.4827586206896552\n"
     ]
    },
    {
     "data": {
      "application/vnd.jupyter.widget-view+json": {
       "model_id": "9ab005619e464b57841936b3ddec1d8c",
       "version_major": 2,
       "version_minor": 0
      },
      "text/plain": [
       "  0%|          | 0/58 [00:00<?, ?it/s]"
      ]
     },
     "metadata": {},
     "output_type": "display_data"
    },
    {
     "name": "stdout",
     "output_type": "stream",
     "text": [
      "qr (0.5, 50)  score  0.46551724137931033\n"
     ]
    },
    {
     "data": {
      "application/vnd.jupyter.widget-view+json": {
       "model_id": "a5756cf8bb1843d9a714c0d1f3c2a5f2",
       "version_major": 2,
       "version_minor": 0
      },
      "text/plain": [
       "  0%|          | 0/58 [00:00<?, ?it/s]"
      ]
     },
     "metadata": {},
     "output_type": "display_data"
    },
    {
     "name": "stdout",
     "output_type": "stream",
     "text": [
      "qr (0.6, 10)  score  0.5\n"
     ]
    },
    {
     "data": {
      "application/vnd.jupyter.widget-view+json": {
       "model_id": "e6c8f77de3e9429abf84af33c4f0e747",
       "version_major": 2,
       "version_minor": 0
      },
      "text/plain": [
       "  0%|          | 0/58 [00:00<?, ?it/s]"
      ]
     },
     "metadata": {},
     "output_type": "display_data"
    },
    {
     "name": "stdout",
     "output_type": "stream",
     "text": [
      "qr (0.6, 15)  score  0.5\n"
     ]
    },
    {
     "data": {
      "application/vnd.jupyter.widget-view+json": {
       "model_id": "2128c75879a04efdbd4048afcd53b786",
       "version_major": 2,
       "version_minor": 0
      },
      "text/plain": [
       "  0%|          | 0/58 [00:00<?, ?it/s]"
      ]
     },
     "metadata": {},
     "output_type": "display_data"
    },
    {
     "name": "stdout",
     "output_type": "stream",
     "text": [
      "qr (0.6, 20)  score  0.5862068965517241\n"
     ]
    },
    {
     "data": {
      "application/vnd.jupyter.widget-view+json": {
       "model_id": "1a2c209ab9a1495fb3af3972061827bd",
       "version_major": 2,
       "version_minor": 0
      },
      "text/plain": [
       "  0%|          | 0/58 [00:00<?, ?it/s]"
      ]
     },
     "metadata": {},
     "output_type": "display_data"
    },
    {
     "name": "stdout",
     "output_type": "stream",
     "text": [
      "qr (0.6, 25)  score  0.5\n"
     ]
    },
    {
     "data": {
      "application/vnd.jupyter.widget-view+json": {
       "model_id": "083977e9e48f445f935f91fdeb28feb1",
       "version_major": 2,
       "version_minor": 0
      },
      "text/plain": [
       "  0%|          | 0/58 [00:00<?, ?it/s]"
      ]
     },
     "metadata": {},
     "output_type": "display_data"
    },
    {
     "name": "stdout",
     "output_type": "stream",
     "text": [
      "qr (0.6, 30)  score  0.5172413793103449\n"
     ]
    },
    {
     "data": {
      "application/vnd.jupyter.widget-view+json": {
       "model_id": "4812de2e0277494eb5538efd682e1f18",
       "version_major": 2,
       "version_minor": 0
      },
      "text/plain": [
       "  0%|          | 0/58 [00:00<?, ?it/s]"
      ]
     },
     "metadata": {},
     "output_type": "display_data"
    },
    {
     "name": "stdout",
     "output_type": "stream",
     "text": [
      "qr (0.6, 35)  score  0.4482758620689655\n"
     ]
    },
    {
     "data": {
      "application/vnd.jupyter.widget-view+json": {
       "model_id": "1286952051184820b658effe080f4ad7",
       "version_major": 2,
       "version_minor": 0
      },
      "text/plain": [
       "  0%|          | 0/58 [00:00<?, ?it/s]"
      ]
     },
     "metadata": {},
     "output_type": "display_data"
    },
    {
     "name": "stdout",
     "output_type": "stream",
     "text": [
      "qr (0.6, 40)  score  0.4827586206896552\n"
     ]
    },
    {
     "data": {
      "application/vnd.jupyter.widget-view+json": {
       "model_id": "3eeb80e176624233ad253234da8e1b94",
       "version_major": 2,
       "version_minor": 0
      },
      "text/plain": [
       "  0%|          | 0/58 [00:00<?, ?it/s]"
      ]
     },
     "metadata": {},
     "output_type": "display_data"
    },
    {
     "name": "stdout",
     "output_type": "stream",
     "text": [
      "qr (0.6, 45)  score  0.5\n"
     ]
    },
    {
     "data": {
      "application/vnd.jupyter.widget-view+json": {
       "model_id": "e40b8b4ffc7c4348b901b2e3185a0304",
       "version_major": 2,
       "version_minor": 0
      },
      "text/plain": [
       "  0%|          | 0/58 [00:00<?, ?it/s]"
      ]
     },
     "metadata": {},
     "output_type": "display_data"
    },
    {
     "name": "stdout",
     "output_type": "stream",
     "text": [
      "qr (0.6, 50)  score  0.5862068965517241\n"
     ]
    }
   ],
   "source": [
    "filters=1\n",
    "\n",
    "time=500\n",
    "dtype=np.float32\n",
    "\n",
    "test_result=[]\n",
    "\n",
    "for q,r in tqdm(tests):\n",
    "    result = []\n",
    "    answer = []\n",
    "    maxs = []\n",
    "    dataset_bin = [binarize_person(p, precision=1e-4, radius=r, filters=filters, down=0.8, up=1.1) for p in _dataset]\n",
    "    raw_data = np.array([i[\"data\"]*2-1 for i in dataset_bin], dtype=dtype)\n",
    "\n",
    "    for i in tqdm(range(len(_dataset))):\n",
    "        model = Hopfield(q=q, np_type=dtype)\n",
    "        _mask = np.ones(len(dataset_bin), dtype=bool)\n",
    "        _mask[i] = False\n",
    "\n",
    "        _X = raw_data[i]\n",
    "        _images = raw_data[_mask]\n",
    "\n",
    "\n",
    "        model.train(images=_images, zeroDiagonal=True)\n",
    "        out = model.run(X=_X, time=time)\n",
    "\n",
    "\n",
    "        max_i = max_score_i(dataset=raw_data, X=out[\"output\"], i=i, score_fn=diceScore)\n",
    "        maxs.append(max_i)\n",
    "\n",
    "\n",
    "        answer.append(dataset_bin[max_i][\"label\"])\n",
    "        if dataset_bin[max_i][\"label\"]==dataset_bin[i][\"label\"]:\n",
    "            result.append(1)\n",
    "        else:\n",
    "            result.append(0)\n",
    "            \n",
    "    score = sum(result)/len(_dataset)\n",
    "    test_result.append({\"q\":q,\"r\":r, \"score\":score, \"result\":result, \"maxs\":maxs})\n",
    "    print(\"qr\",(q,r), \" score \",score)\n",
    "    \n",
    "\n"
   ]
  },
  {
   "cell_type": "code",
   "execution_count": 87,
   "id": "369773f1-da47-47c2-91d1-ea4c05ae4e00",
   "metadata": {},
   "outputs": [],
   "source": [
    "pd.DataFrame(test_result).to_csv(\"test_results/test_2_result.csv\", index=False)"
   ]
  },
  {
   "cell_type": "code",
   "execution_count": 85,
   "id": "dbdaf763-a70b-4e2c-96f8-7978eaa67c84",
   "metadata": {},
   "outputs": [],
   "source": [
    "from mayavi import mlab\n",
    "\n",
    "X, Y, Z = [], [], []\n",
    "for i in test_result:\n",
    "    X.append(i[\"q\"])\n",
    "    Y.append(i[\"r\"]/100)\n",
    "    Z.append(i[\"score\"])\n",
    "\n",
    "\n",
    "pts = mlab.points3d(X, Y, Z, Z)\n",
    "mesh = mlab.pipeline.delaunay2d(pts)\n",
    "pts.remove()\n",
    "surf = mlab.pipeline.surface(mesh)\n",
    "mlab.xlabel(\"Q\")\n",
    "mlab.ylabel(\"Radius\")\n",
    "mlab.zlabel(\"%\")\n",
    "mlab.show()"
   ]
  },
  {
   "cell_type": "code",
   "execution_count": null,
   "id": "9d4feba4-b0a1-4101-90c1-08f874db85c9",
   "metadata": {},
   "outputs": [],
   "source": []
  },
  {
   "cell_type": "code",
   "execution_count": null,
   "id": "8dfbaea0-7938-4583-bf8b-6c4626dd0894",
   "metadata": {},
   "outputs": [],
   "source": []
  },
  {
   "cell_type": "code",
   "execution_count": 17,
   "id": "4ad3c1f9",
   "metadata": {},
   "outputs": [
    {
     "data": {
      "image/png": "[encoded data removed]",
      "text/plain": [
       "<Figure size 640x480 with 1 Axes>"
      ]
     },
     "metadata": {},
     "output_type": "display_data"
    },
    {
     "name": "stdout",
     "output_type": "stream",
     "text": [
      "(58, 3001)\n",
      "coef: 0.019326891036321226\n"
     ]
    },
    {
     "data": {
      "application/vnd.jupyter.widget-view+json": {
       "model_id": "be98414a572f49bd8447ddcfe21dd278",
       "version_major": 2,
       "version_minor": 0
      },
      "text/plain": [
       "  0%|          | 0/58 [00:00<?, ?it/s]"
      ]
     },
     "metadata": {},
     "output_type": "display_data"
    },
    {
     "name": "stdout",
     "output_type": "stream",
     "text": [
      "3 0 3 0 0 1 4 31 0 1 12 14 0 0 5 0 0 0 1 0 2 0 0 0 0 2 0 2 1 9 4 37 7 3 3 0 8 36 31 11 6 0 31 37 42 31 11 1 1 2 0 11 0 44 6 8 11 5 \n",
      "0.6206896551724138\n"
     ]
    }
   ],
   "source": [
    "q=0\n",
    "radius=25\n",
    "#0 25 0.65 10-4\n",
    "\n",
    "filters=1\n",
    "\n",
    "time=500\n",
    "dtype=np.float32\n",
    "\n",
    "result = []\n",
    "answer = []\n",
    "maxs = []\n",
    "\n",
    "dataset_bin = [binarize_person(p, precision=1e-4, radius=radius, filters=filters, down=0.8, up=1.1) for p in _dataset]\n",
    "raw_data = np.array([i[\"data\"]*2-1 for i in dataset_bin], dtype=dtype)\n",
    "\n",
    "plt.imshow(raw_data)\n",
    "plt.show()\n",
    "print(raw_data.shape)\n",
    "print(f\"coef: {raw_data.shape[0]/raw_data.shape[1]}\")\n",
    "\n",
    "\n",
    "for i in tqdm(range(len(_dataset))):\n",
    "    model = Hopfield(q=q, np_type=dtype)\n",
    "    _mask = np.ones(len(dataset_bin), dtype=bool)\n",
    "    _mask[i] = False\n",
    "\n",
    "    _X = raw_data[i]\n",
    "    _images = raw_data[_mask]\n",
    "\n",
    "    \n",
    "    model.train(images=_images, zeroDiagonal=True)\n",
    "    out = model.run(X=_X, time=time)\n",
    "    \n",
    "    max_i = max_score_i(dataset=raw_data, X=out[\"output\"], i=i, score_fn=diceScore)\n",
    "    maxs.append(max_i)\n",
    "    \n",
    "    print(max_i, end=\" \")\n",
    "    \n",
    "    answer.append(dataset_bin[max_i][\"label\"])\n",
    "    if dataset_bin[max_i][\"label\"]==dataset_bin[i][\"label\"]:\n",
    "        result.append(1)\n",
    "    else:\n",
    "        result.append(0)\n",
    "    \n",
    "print(\"\")\n",
    "score = sum(result)/len(_dataset)\n",
    "print(score)"
   ]
  },
  {
   "cell_type": "code",
   "execution_count": null,
   "id": "dd62f970-981f-4c16-ad1d-09899116840c",
   "metadata": {},
   "outputs": [],
   "source": []
  },
  {
   "cell_type": "code",
   "execution_count": null,
   "id": "3e61d9f5-824d-43c1-8848-44d0a4d0bd0c",
   "metadata": {},
   "outputs": [],
   "source": []
  }
 ],
 "metadata": {
  "kernelspec": {
   "display_name": "Python 3 (ipykernel)",
   "language": "python",
   "name": "python3"
  },
  "language_info": {
   "codemirror_mode": {
    "name": "ipython",
    "version": 3
   },
   "file_extension": ".py",
   "mimetype": "text/x-python",
   "name": "python",
   "nbconvert_exporter": "python",
   "pygments_lexer": "ipython3",
   "version": "3.10.9 (tags/v3.10.9:1dd9be6, Dec  6 2022, 20:01:21) [MSC v.1934 64 bit (AMD64)]"
  },
  "vscode": {
   "interpreter": {
    "hash": "afb734500600fd355917ca529030176ea0ca205570884b88f2f6f7d791fd3fbe"
   }
  }
 },
 "nbformat": 4,
 "nbformat_minor": 5
}
