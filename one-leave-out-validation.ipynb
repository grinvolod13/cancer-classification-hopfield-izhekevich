{
 "cells": [
  {
   "cell_type": "code",
   "execution_count": 224,
   "id": "f9a83b05-9973-4ea5-a643-768f634e9742",
   "metadata": {
    "tags": []
   },
   "outputs": [],
   "source": [
    "import sys\n",
    "sys.path.append(\"C:/Users/User/Desktop/hopfield-izhikevich/hopfield\")\n",
    "from hopfield import Hopfield\n",
    "# import hopfield"
   ]
  },
  {
   "cell_type": "code",
   "execution_count": 329,
   "id": "1bcbb086-c338-4745-a098-21723d140c49",
   "metadata": {
    "tags": []
   },
   "outputs": [],
   "source": [
    "import json\n",
    "import jsonlines\n",
    "import os\n",
    "import matplotlib.pyplot as plt\n",
    "import numpy as np\n",
    "import random\n",
    "from pprint import pprint\n",
    "from tqdm.notebook import tqdm\n",
    "from typing import Callable\n",
    "import numpy\n",
    "import itertools as it"
   ]
  },
  {
   "cell_type": "code",
   "execution_count": 470,
   "id": "9c6863a9-5ce1-480c-95bf-6771de3c8694",
   "metadata": {
    "tags": []
   },
   "outputs": [],
   "source": [
    "def load_dir(dataset: list, path: str, label: bool, sort=True):\n",
    "    dataset.sort(key=lambda e: e[\"id\"])\n",
    "    if dataset:\n",
    "        index = dataset[-1][\"id\"]+1\n",
    "    else:\n",
    "        index = 0\n",
    "    fnames = [(path+\"/Red/\"+i[:2]+\"_Red.txt\", path+\"/Green/\"+i[:2]+\"_Green.txt\",path+\"/Blue/\"+i[:2]+\"_Blue.txt\") for i in [i for i in os.walk(path)][1][2]]\n",
    "    for fname in fnames:\n",
    "        person = {\"id\": index}\n",
    "        person[\"label\"] = label\n",
    "        with open(fname[0],\"r\") as rfile, open(fname[1],\"r\") as gfile, open(fname[2],\"r\") as bfile:\n",
    "            person[\"r\"] = [float(i) for i in rfile.readlines()[1:]]\n",
    "            person[\"g\"] = [float(i) for i in gfile.readlines()[1:]]\n",
    "            person[\"b\"] = [float(i) for i in bfile.readlines()[1:]]\n",
    "        \n",
    "        if sort:\n",
    "            person[\"r\"].sort()\n",
    "            person[\"g\"].sort()            \n",
    "            person[\"b\"].sort()\n",
    "        \n",
    "        index+=1\n",
    "        dataset.append(person)\n",
    "        \n",
    "def load_dataset(dataset: list, path: str, pathpos: str, pathneg: str, sort=True):\n",
    "    load_dir(dataset, path+\"/\"+pathpos, True, sort=sort)\n",
    "    load_dir(dataset, path+\"/\"+pathneg, False, sort=sort)    \n",
    "        \n",
    "        \n",
    "# def get_filter(dataset: list, filter: str):\n",
    "#     if filter!=\"r\" and filter!=\"g\" and filter!=\"b\":\n",
    "#         raise ValueError('Wrong filter: must be \"r\", \"g\", \"b\"')\n",
    "#     new_dataset = []\n",
    "#     for person in dataset:\n",
    "#         new_dataset.append({\"id\": person[\"id\"], \"label\": person[\"label\"], \"data\": person[filter]})\n",
    "    \n",
    "#     return new_dataset\n",
    "\n",
    "def show_plot_by_filter(dataset: list, filter: str):\n",
    "    plt.clf()\n",
    "    if filter!=\"r\" and filter!=\"g\" and filter!=\"b\":\n",
    "        raise ValueError('Wrong filter: must be \"r\", \"g\", \"b\"')\n",
    "    for i in np.arange(0,len(dataset), 1):\n",
    "        color=\"green\"\n",
    "        if dataset[i][\"label\"]:\n",
    "            color=\"red\"\n",
    "        for j in dataset[i][filter]:\n",
    "            plt.plot(i,j, \"o\", markersize=0.5, color=color)\n",
    "    plt.show()\n",
    "\n",
    "    \n",
    "def binarize_person(person: dict, precision=1e-3, up=1.8, down=0.2, radius=0, flatten=True, filters=3):\n",
    "    person_data = np.zeros((3, int((up-down)//precision)+1), np.float32)[0:filters]\n",
    "    \n",
    "    dots  = (\n",
    "        ((np.array(person[\"r\"]).clip(down, up)-down)//precision).astype(np.uint32),\n",
    "        ((np.array(person[\"g\"]).clip(down, up)-down)//precision).astype(np.uint32),\n",
    "        ((np.array(person[\"b\"]).clip(down, up)-down)//precision).astype(np.uint32))[0:filters]\n",
    "#     r = np.array(person[\"r\"])\n",
    "#     g = np.array(person[\"g\"])\n",
    "#     b = np.array(person[\"b\"])\n",
    "    \n",
    "    \n",
    "#     dots  = (\n",
    "#         ((r[up>r & r>down]-down)//precision).astype(np.uint32),\n",
    "#         (([up>g & g>down]-down)//precision).astype(np.uint32),\n",
    "#         (([up>b & b>down]-down)//precision).astype(np.uint32))[0:filters]\n",
    "    \n",
    "    \n",
    "    \n",
    "    for color_index in range(filters):\n",
    "        for dot in dots[color_index]:\n",
    "            person_data[color_index][max(0, dot-radius) : min(dot+radius+1, person_data.shape[1])].fill(1)\n",
    "    \n",
    "    if flatten:\n",
    "        return {\"id\": person[\"id\"], \"label\": person[\"label\"], \"data\": person_data.flatten()}\n",
    "    else:\n",
    "        return {\"id\": person[\"id\"], \"label\": person[\"label\"], \"data\": person_data}\n",
    "\n",
    "def show_plot_avg_by_filter(dataset: list, filter: str):\n",
    "    plt.clf()\n",
    "    if filter!=\"r\" and filter!=\"g\" and filter!=\"b\":\n",
    "        raise ValueError('Wrong filter: must be \"r\", \"g\", \"b\"')\n",
    "    for person in dataset:\n",
    "        \n",
    "        if person[\"label\"]:\n",
    "            color=\"red\"\n",
    "            x = 0\n",
    "        else:\n",
    "            color=\"green\"\n",
    "            x = 1\n",
    "             \n",
    "        for y in person[filter]:\n",
    "            plt.plot(x,y, \"o\", markersize=0.5, color=color)\n",
    "    plt.show()\n",
    "    \n"
   ]
  },
  {
   "cell_type": "code",
   "execution_count": 462,
   "id": "8509833e-2e16-4b72-af4e-5d17da539bdf",
   "metadata": {},
   "outputs": [],
   "source": [
    "def diceScore(a: np.ndarray, b: np.ndarray):\n",
    "    if(len(a)!=len(b)):\n",
    "        raise IndexError \n",
    "    tp = 0\n",
    "    for i in range(min(len(a), len(b))):\n",
    "        if a[i]>0 and b[i]>0:\n",
    "            tp+=1\n",
    "    return 2*tp/(sum(a>0)+sum(b>0))"
   ]
  },
  {
   "cell_type": "code",
   "execution_count": 463,
   "id": "6a96f4d3-e595-4353-913a-8af5fc99f95c",
   "metadata": {},
   "outputs": [],
   "source": [
    "def fullMatch(a: np.ndarray, b: np.ndarray):\n",
    "    if(len(a)!=len(b)):\n",
    "        raise IndexError \n",
    "    tp = 0\n",
    "    for i in range(min(len(a), len(b))):\n",
    "        if (a[i]>0 and b[i]>0) or (a[i]<0 and b[i]<0):\n",
    "            tp+=1\n",
    "    return tp/(len(a))"
   ]
  },
  {
   "cell_type": "code",
   "execution_count": 454,
   "id": "88f3ec93-36c0-4632-bf3c-60d282b33ee4",
   "metadata": {},
   "outputs": [
    {
     "data": {
      "text/plain": [
       "0.6666666666666666"
      ]
     },
     "execution_count": 454,
     "metadata": {},
     "output_type": "execute_result"
    }
   ],
   "source": [
    "diceScore(np.array([1,1,1,1,-1]),np.array([1,-1,-1,1,-1]))"
   ]
  },
  {
   "cell_type": "code",
   "execution_count": 455,
   "id": "37f73d13-c8fb-41be-aa92-f34120ba0824",
   "metadata": {},
   "outputs": [],
   "source": [
    "def max_score_i(dataset: np.ndarray, X: np.ndarray, i: int, score_fn: Callable):\n",
    "    if i==0:\n",
    "        max_i = 1\n",
    "    else:\n",
    "        max_i = 0\n",
    "    # print(f\"len {len(dataset)}\")\n",
    "    for j in (k for k in range(len(dataset)) if k!=i):\n",
    "        if score_fn(X,dataset[max_i]) <= score_fn(X,dataset[j]):\n",
    "            max_i = j\n",
    "            \n",
    "    return max_i"
   ]
  },
  {
   "cell_type": "code",
   "execution_count": 456,
   "id": "ce90c7d1-98a8-4276-bff1-e6505ee7056c",
   "metadata": {},
   "outputs": [],
   "source": [
    "def cartesian_product(*arrays):\n",
    "    la = len(arrays)\n",
    "    dtype = numpy.result_type(*arrays)\n",
    "    arr = numpy.empty([len(a) for a in arrays] + [la], dtype=dtype)\n",
    "    for i, a in enumerate(numpy.ix_(*arrays)):\n",
    "        arr[...,i] = a\n",
    "    return arr.reshape(-1, la)"
   ]
  },
  {
   "cell_type": "code",
   "execution_count": 482,
   "id": "df932bb0-c26e-45df-8610-5ec75b4ffa77",
   "metadata": {
    "tags": []
   },
   "outputs": [],
   "source": [
    "dataset = []\n",
    "load_dataset(dataset, \"data_orig/Data\", \"BC\", \"Control\")"
   ]
  },
  {
   "cell_type": "markdown",
   "id": "7449c736",
   "metadata": {},
   "source": [
    "## One-leave-out with dice score"
   ]
  },
  {
   "cell_type": "code",
   "execution_count": 483,
   "id": "9d5e0ce1-97a7-401e-bf27-4fd74309bdc4",
   "metadata": {
    "tags": []
   },
   "outputs": [],
   "source": [
    "q_range=(0,0.9,10)\n",
    "r_range=(0,5,6)\n",
    "q = np.linspace(*q_range)\n",
    "r = np.linspace(*r_range,dtype=int)\n",
    "tests = list(it.product(q,r))\n",
    "_dataset=dataset[39:]"
   ]
  },
  {
   "cell_type": "code",
   "execution_count": 476,
   "id": "9c5c5b2e-91d6-4f77-a10d-969098b1cca4",
   "metadata": {
    "collapsed": true,
    "jupyter": {
     "outputs_hidden": true
    },
    "tags": []
   },
   "outputs": [
    {
     "data": {
      "application/vnd.jupyter.widget-view+json": {
       "model_id": "f78018873e6f4af6b73466d524efbe13",
       "version_major": 2,
       "version_minor": 0
      },
      "text/plain": [
       "  0%|          | 0/60 [00:00<?, ?it/s]"
      ]
     },
     "metadata": {},
     "output_type": "display_data"
    },
    {
     "data": {
      "application/vnd.jupyter.widget-view+json": {
       "model_id": "c278b34fe7da4ee49fd8a82b311a79c3",
       "version_major": 2,
       "version_minor": 0
      },
      "text/plain": [
       "  0%|          | 0/19 [00:00<?, ?it/s]"
      ]
     },
     "metadata": {},
     "output_type": "display_data"
    },
    {
     "name": "stdout",
     "output_type": "stream",
     "text": [
      "qr (0.0, 0)  score  1.0\n"
     ]
    },
    {
     "data": {
      "application/vnd.jupyter.widget-view+json": {
       "model_id": "13de3a31e10d4bb09a08e978e687d0f0",
       "version_major": 2,
       "version_minor": 0
      },
      "text/plain": [
       "  0%|          | 0/19 [00:00<?, ?it/s]"
      ]
     },
     "metadata": {},
     "output_type": "display_data"
    },
    {
     "ename": "KeyboardInterrupt",
     "evalue": "",
     "output_type": "error",
     "traceback": [
      "\u001b[1;31m---------------------------------------------------------------------------\u001b[0m",
      "\u001b[1;31mKeyboardInterrupt\u001b[0m                         Traceback (most recent call last)",
      "Cell \u001b[1;32mIn[476], line 28\u001b[0m\n\u001b[0;32m     24\u001b[0m model\u001b[38;5;241m.\u001b[39mtrain(images\u001b[38;5;241m=\u001b[39m_images, zeroDiagonal\u001b[38;5;241m=\u001b[39m\u001b[38;5;28;01mTrue\u001b[39;00m)\n\u001b[0;32m     25\u001b[0m out \u001b[38;5;241m=\u001b[39m model\u001b[38;5;241m.\u001b[39mrun(X\u001b[38;5;241m=\u001b[39m_X, time\u001b[38;5;241m=\u001b[39mtime)\n\u001b[1;32m---> 28\u001b[0m max_i \u001b[38;5;241m=\u001b[39m \u001b[43mmax_score_i\u001b[49m\u001b[43m(\u001b[49m\u001b[43mdataset\u001b[49m\u001b[38;5;241;43m=\u001b[39;49m\u001b[43mraw_data\u001b[49m\u001b[43m,\u001b[49m\u001b[43m \u001b[49m\u001b[43mX\u001b[49m\u001b[38;5;241;43m=\u001b[39;49m\u001b[43mout\u001b[49m\u001b[43m[\u001b[49m\u001b[38;5;124;43m\"\u001b[39;49m\u001b[38;5;124;43moutput\u001b[39;49m\u001b[38;5;124;43m\"\u001b[39;49m\u001b[43m]\u001b[49m\u001b[43m,\u001b[49m\u001b[43m \u001b[49m\u001b[43mi\u001b[49m\u001b[38;5;241;43m=\u001b[39;49m\u001b[43mi\u001b[49m\u001b[43m,\u001b[49m\u001b[43m \u001b[49m\u001b[43mscore_fn\u001b[49m\u001b[38;5;241;43m=\u001b[39;49m\u001b[43mdiceScore\u001b[49m\u001b[43m)\u001b[49m\n\u001b[0;32m     29\u001b[0m maxs\u001b[38;5;241m.\u001b[39mappend(max_i)\n\u001b[0;32m     32\u001b[0m answer\u001b[38;5;241m.\u001b[39mappend(dataset_bin[max_i][\u001b[38;5;124m\"\u001b[39m\u001b[38;5;124mlabel\u001b[39m\u001b[38;5;124m\"\u001b[39m])\n",
      "Cell \u001b[1;32mIn[455], line 8\u001b[0m, in \u001b[0;36mmax_score_i\u001b[1;34m(dataset, X, i, score_fn)\u001b[0m\n\u001b[0;32m      6\u001b[0m \u001b[38;5;66;03m# print(f\"len {len(dataset)}\")\u001b[39;00m\n\u001b[0;32m      7\u001b[0m \u001b[38;5;28;01mfor\u001b[39;00m j \u001b[38;5;129;01min\u001b[39;00m (k \u001b[38;5;28;01mfor\u001b[39;00m k \u001b[38;5;129;01min\u001b[39;00m \u001b[38;5;28mrange\u001b[39m(\u001b[38;5;28mlen\u001b[39m(dataset)) \u001b[38;5;28;01mif\u001b[39;00m k\u001b[38;5;241m!=\u001b[39mi):\n\u001b[1;32m----> 8\u001b[0m     \u001b[38;5;28;01mif\u001b[39;00m score_fn(X,dataset[max_i]) \u001b[38;5;241m<\u001b[39m\u001b[38;5;241m=\u001b[39m \u001b[43mscore_fn\u001b[49m\u001b[43m(\u001b[49m\u001b[43mX\u001b[49m\u001b[43m,\u001b[49m\u001b[43mdataset\u001b[49m\u001b[43m[\u001b[49m\u001b[43mj\u001b[49m\u001b[43m]\u001b[49m\u001b[43m)\u001b[49m:\n\u001b[0;32m      9\u001b[0m         max_i \u001b[38;5;241m=\u001b[39m j\n\u001b[0;32m     11\u001b[0m \u001b[38;5;28;01mreturn\u001b[39;00m max_i\n",
      "Cell \u001b[1;32mIn[462], line 8\u001b[0m, in \u001b[0;36mdiceScore\u001b[1;34m(a, b)\u001b[0m\n\u001b[0;32m      6\u001b[0m     \u001b[38;5;28;01mif\u001b[39;00m a[i]\u001b[38;5;241m>\u001b[39m\u001b[38;5;241m0\u001b[39m \u001b[38;5;129;01mand\u001b[39;00m b[i]\u001b[38;5;241m>\u001b[39m\u001b[38;5;241m0\u001b[39m:\n\u001b[0;32m      7\u001b[0m         tp\u001b[38;5;241m+\u001b[39m\u001b[38;5;241m=\u001b[39m\u001b[38;5;241m1\u001b[39m\n\u001b[1;32m----> 8\u001b[0m \u001b[38;5;28;01mreturn\u001b[39;00m \u001b[38;5;241m2\u001b[39m\u001b[38;5;241m*\u001b[39mtp\u001b[38;5;241m/\u001b[39m(\u001b[38;5;28;43msum\u001b[39;49m\u001b[43m(\u001b[49m\u001b[43ma\u001b[49m\u001b[38;5;241;43m>\u001b[39;49m\u001b[38;5;241;43m0\u001b[39;49m\u001b[43m)\u001b[49m\u001b[38;5;241m+\u001b[39m\u001b[38;5;28msum\u001b[39m(b\u001b[38;5;241m>\u001b[39m\u001b[38;5;241m0\u001b[39m))\n",
      "\u001b[1;31mKeyboardInterrupt\u001b[0m: "
     ]
    }
   ],
   "source": [
    "filters=1\n",
    "\n",
    "time=500\n",
    "dtype=np.float32\n",
    "\n",
    "outputs=[]\n",
    "\n",
    "for q,r in tqdm(tests):\n",
    "    result = []\n",
    "    answer = []\n",
    "    maxs = []\n",
    "    dataset_bin = [binarize_person(p, precision=1e-3, radius=r, filters=filters, down=0.4, up=1.6) for p in _dataset]\n",
    "    raw_data = np.array([i[\"data\"]*2-1 for i in dataset_bin], dtype=dtype)\n",
    "\n",
    "    for i in tqdm(range(len(_dataset))):\n",
    "        model = Hopfield(q=q, np_type=dtype)\n",
    "        _mask = np.ones(len(dataset_bin), dtype=bool)\n",
    "        _mask[i] = False\n",
    "\n",
    "        _X = raw_data[i]\n",
    "        _images = raw_data[_mask]\n",
    "\n",
    "\n",
    "        model.train(images=_images, zeroDiagonal=True)\n",
    "        out = model.run(X=_X, time=time)\n",
    "\n",
    "\n",
    "        max_i = max_score_i(dataset=raw_data, X=out[\"output\"], i=i, score_fn=diceScore)\n",
    "        maxs.append(max_i)\n",
    "\n",
    "\n",
    "        answer.append(dataset_bin[max_i][\"label\"])\n",
    "        if dataset_bin[max_i][\"label\"]==dataset_bin[i][\"label\"]:\n",
    "            result.append(1)\n",
    "        else:\n",
    "            result.append(0)\n",
    "            \n",
    "    score = sum(result)/len(_dataset)\n",
    "    outputs.append({\"qr\":(q,r), \"score\":score, \"result\":result})\n",
    "    print(\"qr\",(q,r), \" score \",score)\n",
    "    \n",
    "\n",
    "print(outputs)"
   ]
  },
  {
   "cell_type": "code",
   "execution_count": null,
   "id": "4ad3c1f9",
   "metadata": {},
   "outputs": [
    {
     "data": {
      "image/png": "[encoded data removed]",
      "text/plain": [
       "<Figure size 640x480 with 1 Axes>"
      ]
     },
     "metadata": {},
     "output_type": "display_data"
    },
    {
     "name": "stdout",
     "output_type": "stream",
     "text": [
      "(58, 7500)\n",
      "coef: 0.007733333333333333\n"
     ]
    },
    {
     "data": {
      "application/vnd.jupyter.widget-view+json": {
       "model_id": "6269b32b90ab4889b909c11e0232c936",
       "version_major": 2,
       "version_minor": 0
      },
      "text/plain": [
       "  0%|          | 0/58 [00:00<?, ?it/s]"
      ]
     },
     "metadata": {},
     "output_type": "display_data"
    },
    {
     "name": "stdout",
     "output_type": "stream",
     "text": [
      "8 8 17 8 17 17 8 8 17 17 8 "
     ]
    }
   ],
   "source": [
    "q=0\n",
    "radius=25\n",
    "#0 25 0.65 10-4\n",
    "\n",
    "filters=3\n",
    "\n",
    "time=500\n",
    "dtype=np.float32\n",
    "\n",
    "result = []\n",
    "answer = []\n",
    "maxs = []\n",
    "\n",
    "dataset_bin = [binarize_person(p, precision=1e-4, radius=radius, filters=filters, down=0.8, up=1.05) for p in _dataset]\n",
    "raw_data = np.array([i[\"data\"]*2-1 for i in dataset_bin], dtype=dtype)\n",
    "\n",
    "plt.imshow(raw_data)\n",
    "plt.show()\n",
    "print(raw_data.shape)\n",
    "print(f\"coef: {raw_data.shape[0]/raw_data.shape[1]}\")\n",
    "\n",
    "\n",
    "for i in tqdm(range(len(_dataset))):\n",
    "    model = Hopfield(q=q, np_type=dtype)\n",
    "    _mask = np.ones(len(dataset_bin), dtype=bool)\n",
    "    _mask[i] = False\n",
    "\n",
    "    _X = raw_data[i]\n",
    "    _images = raw_data[_mask]\n",
    "\n",
    "    \n",
    "    model.train(images=_images, zeroDiagonal=True)\n",
    "    out = model.run(X=_X, time=time)\n",
    "    \n",
    "    max_i = max_score_i(dataset=raw_data, X=out[\"output\"], i=i, score_fn=diceScore)\n",
    "    maxs.append(max_i)\n",
    "    \n",
    "    print(max_i, end=\" \")\n",
    "    \n",
    "    answer.append(dataset_bin[max_i][\"label\"])\n",
    "    if dataset_bin[max_i][\"label\"]==dataset_bin[i][\"label\"]:\n",
    "        result.append(1)\n",
    "    else:\n",
    "        result.append(0)\n",
    "    \n",
    "print(\"\")\n",
    "score = sum(result)/len(_dataset)\n",
    "print(score)"
   ]
  },
  {
   "cell_type": "code",
   "execution_count": 313,
   "id": "124acfe1-061c-481c-8dcb-237ac9f77fe4",
   "metadata": {
    "tags": []
   },
   "outputs": [
    {
     "data": {
      "text/plain": [
       "[0,\n",
       " 0,\n",
       " 0,\n",
       " 0,\n",
       " 0,\n",
       " 0,\n",
       " 0,\n",
       " 0,\n",
       " 0,\n",
       " 0,\n",
       " 0,\n",
       " 0,\n",
       " 0,\n",
       " 0,\n",
       " 0,\n",
       " 0,\n",
       " 0,\n",
       " 0,\n",
       " 0,\n",
       " 0,\n",
       " 0,\n",
       " 0,\n",
       " 0,\n",
       " 0,\n",
       " 0,\n",
       " 0,\n",
       " 0,\n",
       " 0,\n",
       " 0,\n",
       " 1,\n",
       " 1,\n",
       " 1,\n",
       " 1,\n",
       " 1,\n",
       " 1,\n",
       " 1,\n",
       " 1,\n",
       " 1,\n",
       " 1,\n",
       " 1,\n",
       " 1,\n",
       " 1,\n",
       " 1,\n",
       " 1,\n",
       " 1,\n",
       " 1,\n",
       " 1,\n",
       " 1,\n",
       " 1,\n",
       " 1,\n",
       " 1,\n",
       " 1,\n",
       " 1,\n",
       " 1,\n",
       " 1,\n",
       " 1,\n",
       " 1,\n",
       " 1]"
      ]
     },
     "execution_count": 313,
     "metadata": {},
     "output_type": "execute_result"
    }
   ],
   "source": [
    "result"
   ]
  },
  {
   "cell_type": "code",
   "execution_count": 309,
   "id": "d002350c-d816-4899-9a46-8212d3c0f18a",
   "metadata": {},
   "outputs": [
    {
     "data": {
      "text/plain": [
       "[True,\n",
       " True,\n",
       " True,\n",
       " True,\n",
       " True,\n",
       " True,\n",
       " True,\n",
       " True,\n",
       " True,\n",
       " True,\n",
       " True,\n",
       " True,\n",
       " True,\n",
       " True,\n",
       " True,\n",
       " True,\n",
       " True,\n",
       " True,\n",
       " True,\n",
       " True,\n",
       " True,\n",
       " True,\n",
       " True,\n",
       " True,\n",
       " True,\n",
       " True,\n",
       " True,\n",
       " True,\n",
       " True,\n",
       " True,\n",
       " True,\n",
       " True,\n",
       " True,\n",
       " True,\n",
       " True,\n",
       " True,\n",
       " True,\n",
       " True,\n",
       " True,\n",
       " True,\n",
       " True,\n",
       " True,\n",
       " True,\n",
       " True,\n",
       " True,\n",
       " True,\n",
       " True,\n",
       " True,\n",
       " True,\n",
       " True,\n",
       " True,\n",
       " True,\n",
       " True,\n",
       " True,\n",
       " True,\n",
       " True,\n",
       " True,\n",
       " True]"
      ]
     },
     "execution_count": 309,
     "metadata": {},
     "output_type": "execute_result"
    }
   ],
   "source": [
    "answer"
   ]
  },
  {
   "cell_type": "code",
   "execution_count": null,
   "id": "29e1dbf1-2073-4377-a28e-c2df77a59a97",
   "metadata": {},
   "outputs": [],
   "source": []
  },
  {
   "cell_type": "code",
   "execution_count": 23,
   "id": "d58b43a2-5096-4c9c-a60d-91384ca0a66c",
   "metadata": {},
   "outputs": [],
   "source": [
    "# for i in tqdm(range(len(dataset_bin))):\n",
    "#     _mask = np.ones(len(dataset_bin), dtype=bool)\n",
    "#     _mask[i] = False\n",
    "\n",
    "#     _X = dataset_bin[i][\"data\"]*2-1\n",
    "#     _images = raw_data[_mask]*2-1\n",
    "    \n",
    "#     model = Hopfield(q=q, np_type=np.float32)\n",
    "#     model.train(images=_images)\n",
    "#     # print(\"trained\")\n",
    "#     output = model.run(X=_X, time=time)\n",
    "    \n",
    "#     output[\"output\"] = (output[\"output\"] + 1)*2\n",
    "#     for j in range(len(dataset_bin)-1):\n",
    "#         if (raw_data[_mask][j]==output[\"output\"]).all():\n",
    "#             if i>j:\n",
    "#                 if dataset_bin[i][\"label\"]==dataset_bin[j][\"label\"]:\n",
    "#                     print(\"match\")\n",
    "#                     pos+=1\n",
    "#                     break\n",
    "#             elif dataset_bin[i][\"label\"]==dataset_bin[j+1][\"label\"]:\n",
    "#                 print(\"match\")\n",
    "#                 pos+=1\n",
    "#                 break\n",
    "            \n",
    "        \n",
    "# print(pos)"
   ]
  },
  {
   "cell_type": "code",
   "execution_count": null,
   "id": "b813f860-8ab2-4a0d-945f-c77888ab738e",
   "metadata": {},
   "outputs": [],
   "source": []
  }
 ],
 "metadata": {
  "kernelspec": {
   "display_name": "Python 3 (ipykernel)",
   "language": "python",
   "name": "python3"
  },
  "language_info": {
   "codemirror_mode": {
    "name": "ipython",
    "version": 3
   },
   "file_extension": ".py",
   "mimetype": "text/x-python",
   "name": "python",
   "nbconvert_exporter": "python",
   "pygments_lexer": "ipython3",
   "version": "3.10.9 (tags/v3.10.9:1dd9be6, Dec  6 2022, 20:01:21) [MSC v.1934 64 bit (AMD64)]"
  },
  "vscode": {
   "interpreter": {
    "hash": "afb734500600fd355917ca529030176ea0ca205570884b88f2f6f7d791fd3fbe"
   }
  }
 },
 "nbformat": 4,
 "nbformat_minor": 5
}
